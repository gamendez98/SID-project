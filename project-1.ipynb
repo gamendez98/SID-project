{
 "cells": [
  {
   "cell_type": "markdown",
   "metadata": {
    "application/vnd.databricks.v1+cell": {
     "cellMetadata": {
      "byteLimit": 2048000,
      "rowLimit": 10000
     },
     "inputWidgets": {},
     "nuid": "c4e0c6c7-7183-4ea6-b547-dce5929f8c77",
     "showTitle": false,
     "tableResultSettingsMap": {},
     "title": ""
    }
   },
   "source": [
    "# Proyecto 1\n",
    "## Sistemas de Datos Intensivos\n",
    "### Integrantes: Daniel Felipe Ortiz - 202221234, Jenifer Arce 202014993, Gustavo Mendez 202415142"
   ]
  },
  {
   "cell_type": "code",
   "execution_count": 0,
   "metadata": {
    "application/vnd.databricks.v1+cell": {
     "cellMetadata": {
      "byteLimit": 2048000,
      "rowLimit": 10000
     },
     "inputWidgets": {},
     "nuid": "b32a2e5d-8979-4921-acf0-9946339630b8",
     "showTitle": false,
     "tableResultSettingsMap": {},
     "title": ""
    }
   },
   "outputs": [],
   "source": [
    "from pyspark.sql import functions as F"
   ]
  },
  {
   "cell_type": "markdown",
   "metadata": {
    "application/vnd.databricks.v1+cell": {
     "cellMetadata": {
      "byteLimit": 2048000,
      "rowLimit": 10000
     },
     "inputWidgets": {},
     "nuid": "931b5ce3-e5f5-4faa-a0ae-ecfc26c9678b",
     "showTitle": false,
     "tableResultSettingsMap": {},
     "title": ""
    }
   },
   "source": [
    "# 1. Lea los dos conjuntos de datos. Escriba el código para que la lectura sea lo más rápida posible y justifique su respuesta."
   ]
  },
  {
   "cell_type": "code",
   "execution_count": 0,
   "metadata": {
    "application/vnd.databricks.v1+cell": {
     "cellMetadata": {
      "byteLimit": 2048000,
      "rowLimit": 10000
     },
     "inputWidgets": {},
     "nuid": "79594b13-fdc1-4523-b5f0-4dc898477ab5",
     "showTitle": false,
     "tableResultSettingsMap": {},
     "title": ""
    }
   },
   "outputs": [],
   "source": [
    "storage_account_name = \"uniandesyjt\"\n",
    "container_name = \"sid\"\n",
    "\n",
    "secop_path = f\"wasbs://{container_name}@{storage_account_name}.blob.core.windows.net/secop\"\n",
    "secop = spark.read.json(secop_path)\n",
    "bpin_path = f\"wasbs://{container_name}@{storage_account_name}.blob.core.windows.net/bpin\"\n",
    "bpin = (\n",
    "    spark.read\n",
    "         .option(\"header\", \"true\")\n",
    "         .csv(bpin_path)\n",
    ")"
   ]
  },
  {
   "cell_type": "code",
   "execution_count": 0,
   "metadata": {
    "application/vnd.databricks.v1+cell": {
     "cellMetadata": {
      "byteLimit": 2048000,
      "rowLimit": 10000
     },
     "inputWidgets": {},
     "nuid": "29258f58-fd40-40ae-b8cc-cfd82c5378c1",
     "showTitle": false,
     "tableResultSettingsMap": {},
     "title": ""
    }
   },
   "outputs": [
    {
     "output_type": "display_data",
     "data": {
      "text/html": [
       "<style scoped>\n",
       "  .table-result-container {\n",
       "    max-height: 300px;\n",
       "    overflow: auto;\n",
       "  }\n",
       "  table, th, td {\n",
       "    border: 1px solid black;\n",
       "    border-collapse: collapse;\n",
       "  }\n",
       "  th, td {\n",
       "    padding: 5px;\n",
       "  }\n",
       "  th {\n",
       "    text-align: left;\n",
       "  }\n",
       "</style><div class='table-result-container'><table class='table-result'><thead style='background-color: white'><tr><th>anno_bpin</th><th>anno_firma</th><th>ciudad</th><th>código_bpin</th><th>departamento</th><th>documento_proveedor</th><th>duración_del_contrato</th><th>entidad_centralizada</th><th>estado_contrato</th><th>fecha_de_fin_del_contrato</th><th>fecha_de_firma</th><th>fecha_de_inicio_del_contrato</th><th>modalidad_de_contratacion</th><th>objeto_del_contrato</th><th>orden</th><th>origen_de_los_recursos</th><th>proveedor_adjudicado</th><th>rama</th><th>sector</th><th>tipo_de_contrato</th><th>tipodocproveedor</th><th>ultima_actualizacion</th><th>urlproceso</th><th>valor_del_contrato</th><th>valor_pagado</th></tr></thead><tbody><tr><td>2024</td><td>2024</td><td>No Definido</td><td>2023004410229</td><td>Huila</td><td>1075286176</td><td>6 Mes(es)</td><td>Centralizada</td><td>En ejecución</td><td>2024-09-07</td><td>2024-02-28</td><td>2024-03-08</td><td>Contratación directa</td><td>PRESTAR SERVICIOS DE APOYO A LA SECRETARIA DE SALUD DEPARTAMENTAL EN LA EJECUCIÓN DE ACTIVIDADES DE ENTORNOS SALUDABLES; INSPECCIÓN SANITARIA Y DE CONTROL DE ENFERMEDADES TRANSMITIDAS POR VECTORES Y ZOONOSIS EN EL ÁREA URBANA Y RURAL DEL MUNICIPIO DE GUADALUPE.</td><td>Territorial</td><td>Distribuido</td><td>Juan David Restrepo Cuellar</td><td>Ejecutivo</td><td>Servicio Público</td><td>Prestación de servicios</td><td>Cédula de Ciudadanía</td><td>null</td><td>https://community.secop.gov.co/Public/Tendering/OpportunityDetail/Index?noticeUID=CO1.NTC.5743726&isFromPublicArea=True&isModal=true&asPopupView=true</td><td>18900000</td><td>$2,520,000</td></tr><tr><td>2024</td><td>2024</td><td>Cartagena</td><td>2024130010043</td><td>Bolívar</td><td>901453530</td><td>18 Dia(s)</td><td>Centralizada</td><td>En ejecución</td><td>2024-12-31</td><td>2024-12-12</td><td>2024-12-16</td><td>Mínima cuantía</td><td>CONTRATAR POR MONTO AGOTABLE LA ADQUISICIÓN DE KITS DE ASEO\n",
       "PERSONAL CON DESTINO A LAS PERSONAS PRIVADAS DE LA LIBERTAD RECLUIDAS EN LA\n",
       "CIUDAD DE CARTAGENA DE INDIAS</td><td>Territorial</td><td>Distribuido</td><td>TECNOSUMINISTROS FMK S.A.S</td><td>Ejecutivo</td><td>No aplica/No pertenece</td><td>Suministros</td><td>NIT</td><td>null</td><td>https://community.secop.gov.co/Public/Tendering/OpportunityDetail/Index?noticeUID=CO1.NTC.7148502&isFromPublicArea=True&isModal=true&asPopupView=true</td><td>120000000</td><td>$0</td></tr><tr><td>2024</td><td>2024</td><td>Girardot</td><td>2024253070020</td><td>Cundinamarca</td><td>1070604592</td><td>3 Mes(es)</td><td>Centralizada</td><td>Modificado</td><td>2024-12-05</td><td>2024-09-04</td><td>2024-09-06</td><td>Contratación directa</td><td>PRESTACION DE SERVICIOS PROFESIONALES DE UN (A) TRABAJADOR (A) SOCIAL PARA EL ACOMPAÑAMIENTO PSICOSOCIAL AL PROGRAMA COLOMBIA MAYOR LIDERADO POR LA SECRETARIA DE DESARROLLO ECONOMICO Y SOCIAL</td><td>Territorial</td><td>Distribuido</td><td>JINETH TATIANA GOMEZ IBAÑEZ</td><td>Ejecutivo</td><td>Servicio Público</td><td>Prestación de servicios</td><td>Cédula de Ciudadanía</td><td>2024 Nov 01 12:00:00 AM</td><td>https://community.secop.gov.co/Public/Tendering/OpportunityDetail/Index?noticeUID=CO1.NTC.6652481&isFromPublicArea=True&isModal=true&asPopupView=true</td><td>9000000</td><td>$9,000,000</td></tr><tr><td>2024</td><td>2024</td><td>Puerto Gaitán</td><td>2024505680033</td><td>Meta</td><td>94528216</td><td>10 Dia(s)</td><td>Descentralizada</td><td>terminado</td><td>2024-12-27</td><td>2024-12-16</td><td>2024-12-17</td><td>Mínima cuantía</td><td>ADQUISICIÓN E INSTALACIÓN DE CAMPAÑAS VISUALES DE PUBLICIDAD CON RELACIÓN A LA PREVENCIÓN DE LOS DIFERENTES ESCENARIOS DE RIESGO Y/O EMERGENCIA QUE SE PUEDEN PRESENTAR EN EL MUNICIPIO DE PUERTO GAITÁN META</td><td>Territorial</td><td>Distribuido</td><td>JOSE WALTER ASTUDILLO SUAREZ</td><td>Ejecutivo</td><td>Servicio Público</td><td>Compraventa</td><td>Cédula de Ciudadanía</td><td>2025 Mar 05 12:00:00 AM</td><td>https://community.secop.gov.co/Public/Tendering/OpportunityDetail/Index?noticeUID=CO1.NTC.7185864&isFromPublicArea=True&isModal=true&asPopupView=true</td><td>67599015</td><td>$67,599,015</td></tr><tr><td>No D</td><td>2024</td><td>Medellín</td><td>No Definido</td><td>Antioquia</td><td>1007461247</td><td>165 Dia(s)</td><td>Centralizada</td><td>En ejecución</td><td>2024-12-30</td><td>2024-07-12</td><td>2024-07-16</td><td>Contratación directa</td><td>Prestación de servicios como contratista independiente; sin vínculo laboral por su propia cuenta y riesgo para realizar la gestion de Apoyo administrativo para la gestión documental en ejecución del Contrato Interadministrativo No.4600100862 DE 2024; celebrado entre EL DISTRITO ESPECIAL DE CIENCIA TECNOLOGÍA E INNOVACIÓN DE MEDELLÍN;SECRETARÍA DE INNOVACION y el ITM</td><td>Nacional</td><td>Recursos Propios</td><td>Maria camila Jimenez Gomez</td><td>Corporación Autónoma</td><td>Educación Nacional</td><td>Prestación de servicios</td><td>Cédula de Ciudadanía</td><td>null</td><td>https://community.secop.gov.co/Public/Tendering/OpportunityDetail/Index?noticeUID=CO1.NTC.6396174&isFromPublicArea=True&isModal=true&asPopupView=true</td><td>11618448</td><td>$0</td></tr><tr><td>2023</td><td>2024</td><td>Funza</td><td>2022252860043</td><td>Cundinamarca</td><td>1073507910</td><td>10 Mes(es)</td><td>Centralizada</td><td>Cerrado</td><td>2024-12-26</td><td>2024-02-26</td><td>2024-02-27</td><td>Contratación directa</td><td>PRESTACION DE SERVICIOS PROFESIONALES COMO ABOGADO PARA BRINDAR ASESORIA JURIDIC A MUJERES JOVENES Y POBLACION LGTBIQ DEL MUNICIPIO ESTRUCTURAR Y GESTIONAR LOS PROCESOS DE CONTRATACION QUE ADELANTE LA SECRETARIA DE LA MUJER Y JUVENTUD</td><td>Territorial</td><td>Distribuido</td><td>Angelica Pulido Rodriguez</td><td>Ejecutivo</td><td>Servicio Público</td><td>Prestación de servicios</td><td>Cédula de Ciudadanía</td><td>2025 Apr 25 12:00:00 AM</td><td>https://community.secop.gov.co/Public/Tendering/OpportunityDetail/Index?noticeUID=CO1.NTC.5723376&isFromPublicArea=True&isModal=true&asPopupView=true</td><td>40730000</td><td>$40,730,000</td></tr><tr><td>2024</td><td>2024</td><td>Cali</td><td>2022003760092</td><td>Valle del Cauca</td><td>94393026</td><td>60 Dia(s)</td><td>Centralizada</td><td>Modificado</td><td>2024-05-30</td><td>2024-03-22</td><td>2024-04-03</td><td>Contratación directa</td><td>PRESTAR LOS SERVICIOS COMO PROFESIONAL DENTRO DEL PROYECTO: FORTALECIMIENTO DE LA CAPACIDAD DE RECURSO HUMANO INSTITUCIONAL PARA MEJORAR LA GESTIÓN ADMINISTRATIVA EN LA SECRETARIA DE EDUCACIÓN DEPARTAMENTAL DEL VALLE DEL CAUCA</td><td>Territorial</td><td>Distribuido</td><td>FABIAN ANDRES SANCHEZ TORRES</td><td>Ejecutivo</td><td>Educación Nacional</td><td>Prestación de servicios</td><td>Cédula de Ciudadanía</td><td>2024 May 07 12:00:00 AM</td><td>https://community.secop.gov.co/Public/Tendering/OpportunityDetail/Index?noticeUID=CO1.NTC.5886981&isFromPublicArea=True&isModal=true&asPopupView=true</td><td>15000000</td><td>$15,000,000</td></tr><tr><td>No D</td><td>2024</td><td>Cartago</td><td>No Definido</td><td>Valle del Cauca</td><td>1112788332</td><td>36 Dia(s)</td><td>Centralizada</td><td>En ejecución</td><td>2024-12-31</td><td>2024-11-25</td><td>2024-11-25</td><td>Contratación directa</td><td>PRESTACIÓN DE SERVICIOS PROFESIONALES COMO INGENIERO CIVIL; PARA BRINDAR APOYO EN LOS ASUNTOS TÉCNICOS; ADMINISTRATIVOS Y OPERATIVOS A LA SECRETARIA DE INFRAESTRUCTURA; EN LA EJECUCIÓN DEL PROYECTO APOYO A LA GESTION DE LA SECRETARIA DE INFRAESTRUCTURA DEL MUNICIPIO DE CARTAGO.</td><td>Territorial</td><td>Distribuido</td><td>ANA MARIA ARISTIZABAL VALENCIA</td><td>Ejecutivo</td><td>No aplica/No pertenece</td><td>Prestación de servicios</td><td>Cédula de Ciudadanía</td><td>null</td><td>https://community.secop.gov.co/Public/Tendering/OpportunityDetail/Index?noticeUID=CO1.NTC.7106281&isFromPublicArea=True&isModal=true&asPopupView=true</td><td>7200000</td><td>$0</td></tr><tr><td>No D</td><td>2024</td><td>Risaralda</td><td>No Definido</td><td>Caldas</td><td>1192910269</td><td>179 Dia(s)</td><td>Descentralizada</td><td>En ejecución</td><td>2024-12-31</td><td>2024-07-03</td><td>2024-07-03</td><td>Contratación directa</td><td>PRESTAR SERVICIOS PROFESIONALES PARA APOYAR LA IMPLEMENTACION; GESTION Y SEGUIMIENTO DE LOS PROCESOS DERIVADOS DE LA EJECUCION DE PLANES; PROGRAMAS; PROYECTOS; MODALIDADES Y ESTRATEGIAS RELACIONADAS CON LA PROMOCIÓN DE LOS DERECHOS Y LA PREVENCIÓN DE VULNERACIONES DE LA INFANCIA Y LA ADOLESCENCIA ARTICULANDO ACCIONES AL INTERIOR DEL ICBF Y CON ACTORES DEL SECTOR PÚBLICO; PRIVADO Y COMUNITARIO</td><td>Nacional</td><td>Distribuido</td><td>Daniela Franco Cardenas</td><td>Ejecutivo</td><td>Salud y Protección Social</td><td>Prestación de servicios</td><td>Cédula de Ciudadanía</td><td>null</td><td>https://community.secop.gov.co/Public/Tendering/OpportunityDetail/Index?noticeUID=CO1.NTC.6345154&isFromPublicArea=True&isModal=true&asPopupView=true</td><td>24656460</td><td>$0</td></tr><tr><td>2024</td><td>2024</td><td>Pasto</td><td>2023520010034</td><td>Nariño</td><td>36752090</td><td>80 Dia(s)</td><td>Descentralizada</td><td>Modificado</td><td>2024-07-31</td><td>2024-05-14</td><td>2024-05-20</td><td>Contratación directa</td><td>Prestar sus servicios PROFESIONALES; con plena autonomía técnica y administrativa en la Secretaria General; contemplados dentro del proyecto Fortalecimiento de las Tecnologías de la información y las comunicaciones vigencia 2024 del municipio de Pasto; radicado en el Banco de Proyectos de la Oficina de Planeación de gestión Institucional bajo el Número 2023520010034 de 14 de diciembre de 2023 (SSI_203)</td><td>Territorial</td><td>Distribuido</td><td>ANA FERNANDA NOGURA SANTANDER</td><td>Ejecutivo</td><td>Servicio Público</td><td>Prestación de servicios</td><td>Cédula de Ciudadanía</td><td>2024 May 21 12:00:00 AM</td><td>https://community.secop.gov.co/Public/Tendering/OpportunityDetail/Index?noticeUID=CO1.NTC.6111352&isFromPublicArea=True&isModal=true&asPopupView=true</td><td>7500000</td><td>$0</td></tr></tbody></table></div>"
      ]
     },
     "metadata": {
      "application/vnd.databricks.v1+output": {
       "addedWidgets": {},
       "aggData": [],
       "aggError": "",
       "aggOverflow": false,
       "aggSchema": [],
       "aggSeriesLimitReached": false,
       "aggType": "",
       "arguments": {},
       "columnCustomDisplayInfos": {},
       "data": [
        [
         "2024",
         2024,
         "No Definido",
         "2023004410229",
         "Huila",
         "1075286176",
         "6 Mes(es)",
         "Centralizada",
         "En ejecución",
         "2024-09-07",
         "2024-02-28",
         "2024-03-08",
         "Contratación directa",
         "PRESTAR SERVICIOS DE APOYO A LA SECRETARIA DE SALUD DEPARTAMENTAL EN LA EJECUCIÓN DE ACTIVIDADES DE ENTORNOS SALUDABLES; INSPECCIÓN SANITARIA Y DE CONTROL DE ENFERMEDADES TRANSMITIDAS POR VECTORES Y ZOONOSIS EN EL ÁREA URBANA Y RURAL DEL MUNICIPIO DE GUADALUPE.",
         "Territorial",
         "Distribuido",
         "Juan David Restrepo Cuellar",
         "Ejecutivo",
         "Servicio Público",
         "Prestación de servicios",
         "Cédula de Ciudadanía",
         null,
         "https://community.secop.gov.co/Public/Tendering/OpportunityDetail/Index?noticeUID=CO1.NTC.5743726&isFromPublicArea=True&isModal=true&asPopupView=true",
         18900000,
         "$2,520,000"
        ],
        [
         "2024",
         2024,
         "Cartagena",
         "2024130010043",
         "Bolívar",
         "901453530",
         "18 Dia(s)",
         "Centralizada",
         "En ejecución",
         "2024-12-31",
         "2024-12-12",
         "2024-12-16",
         "Mínima cuantía",
         "CONTRATAR POR MONTO AGOTABLE LA ADQUISICIÓN DE KITS DE ASEO\nPERSONAL CON DESTINO A LAS PERSONAS PRIVADAS DE LA LIBERTAD RECLUIDAS EN LA\nCIUDAD DE CARTAGENA DE INDIAS",
         "Territorial",
         "Distribuido",
         "TECNOSUMINISTROS FMK S.A.S",
         "Ejecutivo",
         "No aplica/No pertenece",
         "Suministros",
         "NIT",
         null,
         "https://community.secop.gov.co/Public/Tendering/OpportunityDetail/Index?noticeUID=CO1.NTC.7148502&isFromPublicArea=True&isModal=true&asPopupView=true",
         120000000,
         "$0"
        ],
        [
         "2024",
         2024,
         "Girardot",
         "2024253070020",
         "Cundinamarca",
         "1070604592",
         "3 Mes(es)",
         "Centralizada",
         "Modificado",
         "2024-12-05",
         "2024-09-04",
         "2024-09-06",
         "Contratación directa",
         "PRESTACION DE SERVICIOS PROFESIONALES DE UN (A) TRABAJADOR (A) SOCIAL PARA EL ACOMPAÑAMIENTO PSICOSOCIAL AL PROGRAMA COLOMBIA MAYOR LIDERADO POR LA SECRETARIA DE DESARROLLO ECONOMICO Y SOCIAL",
         "Territorial",
         "Distribuido",
         "JINETH TATIANA GOMEZ IBAÑEZ",
         "Ejecutivo",
         "Servicio Público",
         "Prestación de servicios",
         "Cédula de Ciudadanía",
         "2024 Nov 01 12:00:00 AM",
         "https://community.secop.gov.co/Public/Tendering/OpportunityDetail/Index?noticeUID=CO1.NTC.6652481&isFromPublicArea=True&isModal=true&asPopupView=true",
         9000000,
         "$9,000,000"
        ],
        [
         "2024",
         2024,
         "Puerto Gaitán",
         "2024505680033",
         "Meta",
         "94528216",
         "10 Dia(s)",
         "Descentralizada",
         "terminado",
         "2024-12-27",
         "2024-12-16",
         "2024-12-17",
         "Mínima cuantía",
         "ADQUISICIÓN E INSTALACIÓN DE CAMPAÑAS VISUALES DE PUBLICIDAD CON RELACIÓN A LA PREVENCIÓN DE LOS DIFERENTES ESCENARIOS DE RIESGO Y/O EMERGENCIA QUE SE PUEDEN PRESENTAR EN EL MUNICIPIO DE PUERTO GAITÁN META",
         "Territorial",
         "Distribuido",
         "JOSE WALTER ASTUDILLO SUAREZ",
         "Ejecutivo",
         "Servicio Público",
         "Compraventa",
         "Cédula de Ciudadanía",
         "2025 Mar 05 12:00:00 AM",
         "https://community.secop.gov.co/Public/Tendering/OpportunityDetail/Index?noticeUID=CO1.NTC.7185864&isFromPublicArea=True&isModal=true&asPopupView=true",
         67599015,
         "$67,599,015"
        ],
        [
         "No D",
         2024,
         "Medellín",
         "No Definido",
         "Antioquia",
         "1007461247",
         "165 Dia(s)",
         "Centralizada",
         "En ejecución",
         "2024-12-30",
         "2024-07-12",
         "2024-07-16",
         "Contratación directa",
         "Prestación de servicios como contratista independiente; sin vínculo laboral por su propia cuenta y riesgo para realizar la gestion de Apoyo administrativo para la gestión documental en ejecución del Contrato Interadministrativo No.4600100862 DE 2024; celebrado entre EL DISTRITO ESPECIAL DE CIENCIA TECNOLOGÍA E INNOVACIÓN DE MEDELLÍN;SECRETARÍA DE INNOVACION y el ITM",
         "Nacional",
         "Recursos Propios",
         "Maria camila Jimenez Gomez",
         "Corporación Autónoma",
         "Educación Nacional",
         "Prestación de servicios",
         "Cédula de Ciudadanía",
         null,
         "https://community.secop.gov.co/Public/Tendering/OpportunityDetail/Index?noticeUID=CO1.NTC.6396174&isFromPublicArea=True&isModal=true&asPopupView=true",
         11618448,
         "$0"
        ],
        [
         "2023",
         2024,
         "Funza",
         "2022252860043",
         "Cundinamarca",
         "1073507910",
         "10 Mes(es)",
         "Centralizada",
         "Cerrado",
         "2024-12-26",
         "2024-02-26",
         "2024-02-27",
         "Contratación directa",
         "PRESTACION DE SERVICIOS PROFESIONALES COMO ABOGADO PARA BRINDAR ASESORIA JURIDIC A MUJERES JOVENES Y POBLACION LGTBIQ DEL MUNICIPIO ESTRUCTURAR Y GESTIONAR LOS PROCESOS DE CONTRATACION QUE ADELANTE LA SECRETARIA DE LA MUJER Y JUVENTUD",
         "Territorial",
         "Distribuido",
         "Angelica Pulido Rodriguez",
         "Ejecutivo",
         "Servicio Público",
         "Prestación de servicios",
         "Cédula de Ciudadanía",
         "2025 Apr 25 12:00:00 AM",
         "https://community.secop.gov.co/Public/Tendering/OpportunityDetail/Index?noticeUID=CO1.NTC.5723376&isFromPublicArea=True&isModal=true&asPopupView=true",
         40730000,
         "$40,730,000"
        ],
        [
         "2024",
         2024,
         "Cali",
         "2022003760092",
         "Valle del Cauca",
         "94393026",
         "60 Dia(s)",
         "Centralizada",
         "Modificado",
         "2024-05-30",
         "2024-03-22",
         "2024-04-03",
         "Contratación directa",
         "PRESTAR LOS SERVICIOS COMO PROFESIONAL DENTRO DEL PROYECTO: FORTALECIMIENTO DE LA CAPACIDAD DE RECURSO HUMANO INSTITUCIONAL PARA MEJORAR LA GESTIÓN ADMINISTRATIVA EN LA SECRETARIA DE EDUCACIÓN DEPARTAMENTAL DEL VALLE DEL CAUCA",
         "Territorial",
         "Distribuido",
         "FABIAN ANDRES SANCHEZ TORRES",
         "Ejecutivo",
         "Educación Nacional",
         "Prestación de servicios",
         "Cédula de Ciudadanía",
         "2024 May 07 12:00:00 AM",
         "https://community.secop.gov.co/Public/Tendering/OpportunityDetail/Index?noticeUID=CO1.NTC.5886981&isFromPublicArea=True&isModal=true&asPopupView=true",
         15000000,
         "$15,000,000"
        ],
        [
         "No D",
         2024,
         "Cartago",
         "No Definido",
         "Valle del Cauca",
         "1112788332",
         "36 Dia(s)",
         "Centralizada",
         "En ejecución",
         "2024-12-31",
         "2024-11-25",
         "2024-11-25",
         "Contratación directa",
         "PRESTACIÓN DE SERVICIOS PROFESIONALES COMO INGENIERO CIVIL; PARA BRINDAR APOYO EN LOS ASUNTOS TÉCNICOS; ADMINISTRATIVOS Y OPERATIVOS A LA SECRETARIA DE INFRAESTRUCTURA; EN LA EJECUCIÓN DEL PROYECTO APOYO A LA GESTION DE LA SECRETARIA DE INFRAESTRUCTURA DEL MUNICIPIO DE CARTAGO.",
         "Territorial",
         "Distribuido",
         "ANA MARIA ARISTIZABAL VALENCIA",
         "Ejecutivo",
         "No aplica/No pertenece",
         "Prestación de servicios",
         "Cédula de Ciudadanía",
         null,
         "https://community.secop.gov.co/Public/Tendering/OpportunityDetail/Index?noticeUID=CO1.NTC.7106281&isFromPublicArea=True&isModal=true&asPopupView=true",
         7200000,
         "$0"
        ],
        [
         "No D",
         2024,
         "Risaralda",
         "No Definido",
         "Caldas",
         "1192910269",
         "179 Dia(s)",
         "Descentralizada",
         "En ejecución",
         "2024-12-31",
         "2024-07-03",
         "2024-07-03",
         "Contratación directa",
         "PRESTAR SERVICIOS PROFESIONALES PARA APOYAR LA IMPLEMENTACION; GESTION Y SEGUIMIENTO DE LOS PROCESOS DERIVADOS DE LA EJECUCION DE PLANES; PROGRAMAS; PROYECTOS; MODALIDADES Y ESTRATEGIAS RELACIONADAS CON LA PROMOCIÓN DE LOS DERECHOS Y LA PREVENCIÓN DE VULNERACIONES DE LA INFANCIA Y LA ADOLESCENCIA ARTICULANDO ACCIONES AL INTERIOR DEL ICBF Y CON ACTORES DEL SECTOR PÚBLICO; PRIVADO Y COMUNITARIO",
         "Nacional",
         "Distribuido",
         "Daniela Franco Cardenas",
         "Ejecutivo",
         "Salud y Protección Social",
         "Prestación de servicios",
         "Cédula de Ciudadanía",
         null,
         "https://community.secop.gov.co/Public/Tendering/OpportunityDetail/Index?noticeUID=CO1.NTC.6345154&isFromPublicArea=True&isModal=true&asPopupView=true",
         24656460,
         "$0"
        ],
        [
         "2024",
         2024,
         "Pasto",
         "2023520010034",
         "Nariño",
         "36752090",
         "80 Dia(s)",
         "Descentralizada",
         "Modificado",
         "2024-07-31",
         "2024-05-14",
         "2024-05-20",
         "Contratación directa",
         "Prestar sus servicios PROFESIONALES; con plena autonomía técnica y administrativa en la Secretaria General; contemplados dentro del proyecto Fortalecimiento de las Tecnologías de la información y las comunicaciones vigencia 2024 del municipio de Pasto; radicado en el Banco de Proyectos de la Oficina de Planeación de gestión Institucional bajo el Número 2023520010034 de 14 de diciembre de 2023 (SSI_203)",
         "Territorial",
         "Distribuido",
         "ANA FERNANDA NOGURA SANTANDER",
         "Ejecutivo",
         "Servicio Público",
         "Prestación de servicios",
         "Cédula de Ciudadanía",
         "2024 May 21 12:00:00 AM",
         "https://community.secop.gov.co/Public/Tendering/OpportunityDetail/Index?noticeUID=CO1.NTC.6111352&isFromPublicArea=True&isModal=true&asPopupView=true",
         7500000,
         "$0"
        ]
       ],
       "datasetInfos": [],
       "dbfsResultPath": null,
       "isJsonSchema": true,
       "metadata": {},
       "overflow": false,
       "plotOptions": {
        "customPlotOptions": {},
        "displayType": "table",
        "pivotAggregation": null,
        "pivotColumns": null,
        "xColumns": null,
        "yColumns": null
       },
       "removedWidgets": [],
       "schema": [
        {
         "metadata": "{}",
         "name": "anno_bpin",
         "type": "\"string\""
        },
        {
         "metadata": "{}",
         "name": "anno_firma",
         "type": "\"long\""
        },
        {
         "metadata": "{}",
         "name": "ciudad",
         "type": "\"string\""
        },
        {
         "metadata": "{}",
         "name": "código_bpin",
         "type": "\"string\""
        },
        {
         "metadata": "{}",
         "name": "departamento",
         "type": "\"string\""
        },
        {
         "metadata": "{}",
         "name": "documento_proveedor",
         "type": "\"string\""
        },
        {
         "metadata": "{}",
         "name": "duración_del_contrato",
         "type": "\"string\""
        },
        {
         "metadata": "{}",
         "name": "entidad_centralizada",
         "type": "\"string\""
        },
        {
         "metadata": "{}",
         "name": "estado_contrato",
         "type": "\"string\""
        },
        {
         "metadata": "{}",
         "name": "fecha_de_fin_del_contrato",
         "type": "\"string\""
        },
        {
         "metadata": "{}",
         "name": "fecha_de_firma",
         "type": "\"string\""
        },
        {
         "metadata": "{}",
         "name": "fecha_de_inicio_del_contrato",
         "type": "\"string\""
        },
        {
         "metadata": "{}",
         "name": "modalidad_de_contratacion",
         "type": "\"string\""
        },
        {
         "metadata": "{}",
         "name": "objeto_del_contrato",
         "type": "\"string\""
        },
        {
         "metadata": "{}",
         "name": "orden",
         "type": "\"string\""
        },
        {
         "metadata": "{}",
         "name": "origen_de_los_recursos",
         "type": "\"string\""
        },
        {
         "metadata": "{}",
         "name": "proveedor_adjudicado",
         "type": "\"string\""
        },
        {
         "metadata": "{}",
         "name": "rama",
         "type": "\"string\""
        },
        {
         "metadata": "{}",
         "name": "sector",
         "type": "\"string\""
        },
        {
         "metadata": "{}",
         "name": "tipo_de_contrato",
         "type": "\"string\""
        },
        {
         "metadata": "{}",
         "name": "tipodocproveedor",
         "type": "\"string\""
        },
        {
         "metadata": "{}",
         "name": "ultima_actualizacion",
         "type": "\"string\""
        },
        {
         "metadata": "{}",
         "name": "urlproceso",
         "type": "\"string\""
        },
        {
         "metadata": "{}",
         "name": "valor_del_contrato",
         "type": "\"long\""
        },
        {
         "metadata": "{}",
         "name": "valor_pagado",
         "type": "\"string\""
        }
       ],
       "type": "table"
      }
     }
    }
   ],
   "source": [
    "display(secop.head(10))"
   ]
  },
  {
   "cell_type": "code",
   "execution_count": 0,
   "metadata": {
    "application/vnd.databricks.v1+cell": {
     "cellMetadata": {
      "byteLimit": 2048000,
      "rowLimit": 10000
     },
     "inputWidgets": {},
     "nuid": "9e81d1a7-88be-49c1-aa55-bf3d5e693204",
     "showTitle": false,
     "tableResultSettingsMap": {},
     "title": ""
    }
   },
   "outputs": [
    {
     "output_type": "display_data",
     "data": {
      "text/html": [
       "<style scoped>\n",
       "  .table-result-container {\n",
       "    max-height: 300px;\n",
       "    overflow: auto;\n",
       "  }\n",
       "  table, th, td {\n",
       "    border: 1px solid black;\n",
       "    border-collapse: collapse;\n",
       "  }\n",
       "  th, td {\n",
       "    padding: 5px;\n",
       "  }\n",
       "  th {\n",
       "    text-align: left;\n",
       "  }\n",
       "</style><div class='table-result-container'><table class='table-result'><thead style='background-color: white'><tr><th>Bpin</th><th>NombreProyecto</th><th>ObjetivoGeneral</th><th>EstadoProyecto</th><th>Horizonte</th><th>Sector</th><th>EntidadResponsable</th><th>ProgramaPresupuestal</th><th>TipoProyecto</th><th>PlanDesarrolloNacional</th><th>ValorTotalProyecto</th><th>ValorVigenteProyecto</th><th>ValorObligacionProyecto</th><th>ValorPagoProyecto</th><th>SubEstadoProyecto</th><th>CodigoEntidadResponsable</th><th>TotalBeneficiario</th></tr></thead><tbody><tr><td>2019415240011</td><td>Desarrollo Del  Programa De Transporte  Escolar  En El  Municipio De   Palermo Huila</td><td>Garantizar a los menores y  los adolescentes del municipio de Palermo su derecho Constitucional de acceder a educación pública.</td><td>En Ejecución</td><td>2019-2019</td><td>Educación</td><td>PalermoHuila</td><td>2201 CALIDAD, COBERTURA Y FORTALECIMIENTO DE LA EDUCACIÓN INICIAL, PRESCOLAR, BÁSICA Y MEDIA</td><td>T</td><td>Todos por un nuevo país (2014-2018)</td><td>1000000000.0</td><td>1000000000.0</td><td>0.0</td><td>0.0</td><td>Inactivo  (PGN, Territorio)</td><td>41524</td><td>718</td></tr><tr><td>2022002700139</td><td>Desarrollo De La Dimensión Vida Saludable Y Enfermedades Transmisibles - Enfermedades Emergentes Reemergentes Y Desatendidas Del Programa Salud Pública Prioritaria Y Diferente Vigencia 2023 En El Departamento De  Sucre</td><td>Mejorar las condiciones de atención y protección en salud a la población del departamento de Sucre.</td><td>En Ejecución</td><td>2023-2023</td><td>Salud Y Protección Social</td><td>Sucre</td><td>SALUD PÚBLICA</td><td>T</td><td>Pacto Por Colombia, Pacto por la Equidad (2019-2022)</td><td>370066980.0</td><td>370066980.0</td><td>106499940.0</td><td>106499940.0</td><td>Inactivo  (PGN, Territorio)</td><td>70</td><td>981727</td></tr><tr><td>2024735550002</td><td>Mejoramiento De Las Condiones De Acciones Y Acceso Y Permanencia En El Sistema Educativo De La Población Estudiantil Del Resguardo Indigena Paez Nasa Wesx Del Corregimiento De Gaitania Municipio De  Planadas Tolima</td><td>GTYBY</td><td>Formulación</td><td>2024-2024</td><td>Educación</td><td>PlanadasTolima</td><td>2201 CALIDAD, COBERTURA Y FORTALECIMIENTO DE LA EDUCACIÓN INICIAL, PRESCOLAR, BÁSICA Y MEDIA</td><td>T</td><td>Colombia Potencia Mundial de la Vida (2022-2026)</td><td>1000.0</td><td>0.0</td><td>0.0</td><td>0.0</td><td>Devuelto a MGA</td><td>73555</td><td>100</td></tr><tr><td>2024202380105</td><td>Desarrollo Y Fomento De La Cultura Local Del Municipio   El Copey</td><td>Fortalecer la promoción de actividades artísticas y culturales en el municipio de El Copey Cesar</td><td>En Ejecución</td><td>2024-2024</td><td>Cultura</td><td>El CopeyCesar</td><td>3301 PROMOCIÓN Y ACCESO EFECTIVO A PROCESOS CULTURALES Y ARTÍSTICOS</td><td>T</td><td>Colombia Potencia Mundial de la Vida (2022-2026)</td><td>469820299.0</td><td>469820299.0</td><td>0.0</td><td>0.0</td><td>Inactivo  (PGN, Territorio)</td><td>20238</td><td>32624</td></tr><tr><td>2019522870015</td><td>Suministro De Materiales De Ferretería Y De Cantera Para La Adecuación De Varios Puntos Álgidos No Continuos Sobre Las Vías Que Conducen A La Soledad Y Guapuscal Bajo Que Necesitan Ser Intervenidos Para El Transito Seguro En El Municipio De  Funes</td><td>Mejorar la infraestructura de las vías del sector rural</td><td>Formulación</td><td>2019-2019</td><td>Transporte</td><td>FunesNariño</td><td>2401 INFRAESTRUCTURA RED VIAL PRIMARIA</td><td>T</td><td>Todos por un nuevo país (2014-2018)</td><td>68796600.0</td><td>0.0</td><td>0.0</td><td>0.0</td><td>Devuelto a MGA</td><td>52287</td><td>4500</td></tr><tr><td>2022862190016</td><td>Adecuación  De Las Instalaciones Del Estadio Jesus Maria Cabal En El Muicipio De Colon  Colon</td><td>ESTIMULAR Y PROMOVER LA ACTIVIDAD FÍSICA Y EL DEPORTE PARA LA ORGANIZACIÓN Y PREMIACIÓN DEL FESTIVAL DE ESCUELAS DEL VALLE DE SIBUNDOY EN CONMEMORACIÓN A LAS FIESTAS PATRONALES SAN ANTONIO DE PADUA COLON</td><td>En Ejecución</td><td>2022-2022</td><td>Deporte Y Recreación</td><td>ColónPutumayo</td><td>4301 FOMENTO A LA RECREACIÓN, LA ACTIVIDAD FÍSICA Y EL DEPORTE PARA DESARROLLAR ENTORNOS DE CONVIVENCIA Y PAZ</td><td>T</td><td>Pacto Por Colombia, Pacto por la Equidad (2019-2022)</td><td>15346286.8</td><td>15346286.8</td><td>0.0</td><td>0.0</td><td>Inactivo  (PGN, Territorio)</td><td>86219</td><td>5530</td></tr><tr><td>2021760540027</td><td>Desarrollo Del Programa Unidos Haremos Más Desarrollo Social - Sector Cultura Del Municipio De Argelia  Valle Del Cauca</td><td>insuficientes programas y actividades  dirigidos al sector cultura del municipio de Argelia valle</td><td>En Ejecución</td><td>2022-2022</td><td>Cultura</td><td>ArgeliaValle del Cauca</td><td>3301 PROMOCIÓN Y ACCESO EFECTIVO A PROCESOS CULTURALES Y ARTÍSTICOS</td><td>T</td><td>Pacto Por Colombia, Pacto por la Equidad (2019-2022)</td><td>160291016.22</td><td>160291016.22</td><td>72050446.0</td><td>52310000.0</td><td>Inactivo  (PGN, Territorio)</td><td>76054</td><td>1809</td></tr><tr><td>2018235700040</td><td>Reposicin De Redes De Alcantarillado En La Transversal 11 Entre Calles 17a Y Calle 18b Entre Barrio El Carmen Y Av. Jose Ines Torres Del Municipio De Pueblo Nuevo Departamento De   Cordoba</td><td>Disminuir los niveles de disposicin de aguas negras sin tratar  en el del barrio el  Carmen  de  la zona urbana del municipio de Pueblo Nuevo.</td><td>En Ejecución</td><td>2018-2018</td><td>Vivienda, Ciudad Y Territorio</td><td>Pueblo NuevoCórdoba</td><td>4003 ACCESO DE LA POBLACIÓN A LOS SERVICIOS DE AGUA POTABLE Y SANEAMIENTO BÁSICO</td><td>T</td><td>Todos por un nuevo país (2014-2018)</td><td>161084920.0</td><td>161084920.0</td><td>0.0</td><td>0.0</td><td>Inactivo  (PGN, Territorio)</td><td>23570</td><td>529</td></tr><tr><td>2018195170002</td><td>Fortalecimiento De Los Procesos Y Las Escuelas De Formación Deportiva En Diferentes Disciplinas.  Paez</td><td>Fortalecimiento de los procesos y las escuelas de formacin en diferentes disciplinas.</td><td>Formulación</td><td>2018-2018</td><td>Deporte Y Recreación</td><td>PáezCauca</td><td>4301 FOMENTO A LA RECREACIÓN, LA ACTIVIDAD FÍSICA Y EL DEPORTE PARA DESARROLLAR ENTORNOS DE CONVIVENCIA Y PAZ</td><td>T</td><td>Todos por un nuevo país (2014-2018)</td><td>273300000.0</td><td>0.0</td><td>0.0</td><td>0.0</td><td>Devuelto a MGA</td><td>19517</td><td>350</td></tr><tr><td>2020764000049</td><td>Fortalecimiento Y Dotación De La Biblioteca Pública Del Municipio De  La Unión</td><td>Fortalecer las actividades desarrolladas y el mobiliario de la Biblioteca Municipal en aras de ofrecer un mejor servicio a la Comunidad del Municipio.</td><td>En Ejecución</td><td>2021-2024</td><td>Cultura</td><td>La UniónValle del Cauca</td><td>3301 PROMOCIÓN Y ACCESO EFECTIVO A PROCESOS CULTURALES Y ARTÍSTICOS</td><td>T</td><td>Pacto Por Colombia, Pacto por la Equidad (2019-2022)</td><td>659787377.51</td><td>659787377.51</td><td>99703964.0</td><td>99703964.0</td><td>Inactivo  (PGN, Territorio)</td><td>76400</td><td>34493</td></tr></tbody></table></div>"
      ]
     },
     "metadata": {
      "application/vnd.databricks.v1+output": {
       "addedWidgets": {},
       "aggData": [],
       "aggError": "",
       "aggOverflow": false,
       "aggSchema": [],
       "aggSeriesLimitReached": false,
       "aggType": "",
       "arguments": {},
       "columnCustomDisplayInfos": {},
       "data": [
        [
         "2019415240011",
         "Desarrollo Del  Programa De Transporte  Escolar  En El  Municipio De   Palermo Huila",
         "Garantizar a los menores y  los adolescentes del municipio de Palermo su derecho Constitucional de acceder a educación pública.",
         "En Ejecución",
         "2019-2019",
         "Educación",
         "PalermoHuila",
         "2201 CALIDAD, COBERTURA Y FORTALECIMIENTO DE LA EDUCACIÓN INICIAL, PRESCOLAR, BÁSICA Y MEDIA",
         "T",
         "Todos por un nuevo país (2014-2018)",
         "1000000000.0",
         "1000000000.0",
         "0.0",
         "0.0",
         "Inactivo  (PGN, Territorio)",
         "41524",
         "718"
        ],
        [
         "2022002700139",
         "Desarrollo De La Dimensión Vida Saludable Y Enfermedades Transmisibles - Enfermedades Emergentes Reemergentes Y Desatendidas Del Programa Salud Pública Prioritaria Y Diferente Vigencia 2023 En El Departamento De  Sucre",
         "Mejorar las condiciones de atención y protección en salud a la población del departamento de Sucre.",
         "En Ejecución",
         "2023-2023",
         "Salud Y Protección Social",
         "Sucre",
         "SALUD PÚBLICA",
         "T",
         "Pacto Por Colombia, Pacto por la Equidad (2019-2022)",
         "370066980.0",
         "370066980.0",
         "106499940.0",
         "106499940.0",
         "Inactivo  (PGN, Territorio)",
         "70",
         "981727"
        ],
        [
         "2024735550002",
         "Mejoramiento De Las Condiones De Acciones Y Acceso Y Permanencia En El Sistema Educativo De La Población Estudiantil Del Resguardo Indigena Paez Nasa Wesx Del Corregimiento De Gaitania Municipio De  Planadas Tolima",
         "GTYBY",
         "Formulación",
         "2024-2024",
         "Educación",
         "PlanadasTolima",
         "2201 CALIDAD, COBERTURA Y FORTALECIMIENTO DE LA EDUCACIÓN INICIAL, PRESCOLAR, BÁSICA Y MEDIA",
         "T",
         "Colombia Potencia Mundial de la Vida (2022-2026)",
         "1000.0",
         "0.0",
         "0.0",
         "0.0",
         "Devuelto a MGA",
         "73555",
         "100"
        ],
        [
         "2024202380105",
         "Desarrollo Y Fomento De La Cultura Local Del Municipio   El Copey",
         "Fortalecer la promoción de actividades artísticas y culturales en el municipio de El Copey Cesar",
         "En Ejecución",
         "2024-2024",
         "Cultura",
         "El CopeyCesar",
         "3301 PROMOCIÓN Y ACCESO EFECTIVO A PROCESOS CULTURALES Y ARTÍSTICOS",
         "T",
         "Colombia Potencia Mundial de la Vida (2022-2026)",
         "469820299.0",
         "469820299.0",
         "0.0",
         "0.0",
         "Inactivo  (PGN, Territorio)",
         "20238",
         "32624"
        ],
        [
         "2019522870015",
         "Suministro De Materiales De Ferretería Y De Cantera Para La Adecuación De Varios Puntos Álgidos No Continuos Sobre Las Vías Que Conducen A La Soledad Y Guapuscal Bajo Que Necesitan Ser Intervenidos Para El Transito Seguro En El Municipio De  Funes",
         "Mejorar la infraestructura de las vías del sector rural",
         "Formulación",
         "2019-2019",
         "Transporte",
         "FunesNariño",
         "2401 INFRAESTRUCTURA RED VIAL PRIMARIA",
         "T",
         "Todos por un nuevo país (2014-2018)",
         "68796600.0",
         "0.0",
         "0.0",
         "0.0",
         "Devuelto a MGA",
         "52287",
         "4500"
        ],
        [
         "2022862190016",
         "Adecuación  De Las Instalaciones Del Estadio Jesus Maria Cabal En El Muicipio De Colon  Colon",
         "ESTIMULAR Y PROMOVER LA ACTIVIDAD FÍSICA Y EL DEPORTE PARA LA ORGANIZACIÓN Y PREMIACIÓN DEL FESTIVAL DE ESCUELAS DEL VALLE DE SIBUNDOY EN CONMEMORACIÓN A LAS FIESTAS PATRONALES SAN ANTONIO DE PADUA COLON",
         "En Ejecución",
         "2022-2022",
         "Deporte Y Recreación",
         "ColónPutumayo",
         "4301 FOMENTO A LA RECREACIÓN, LA ACTIVIDAD FÍSICA Y EL DEPORTE PARA DESARROLLAR ENTORNOS DE CONVIVENCIA Y PAZ",
         "T",
         "Pacto Por Colombia, Pacto por la Equidad (2019-2022)",
         "15346286.8",
         "15346286.8",
         "0.0",
         "0.0",
         "Inactivo  (PGN, Territorio)",
         "86219",
         "5530"
        ],
        [
         "2021760540027",
         "Desarrollo Del Programa Unidos Haremos Más Desarrollo Social - Sector Cultura Del Municipio De Argelia  Valle Del Cauca",
         "insuficientes programas y actividades  dirigidos al sector cultura del municipio de Argelia valle",
         "En Ejecución",
         "2022-2022",
         "Cultura",
         "ArgeliaValle del Cauca",
         "3301 PROMOCIÓN Y ACCESO EFECTIVO A PROCESOS CULTURALES Y ARTÍSTICOS",
         "T",
         "Pacto Por Colombia, Pacto por la Equidad (2019-2022)",
         "160291016.22",
         "160291016.22",
         "72050446.0",
         "52310000.0",
         "Inactivo  (PGN, Territorio)",
         "76054",
         "1809"
        ],
        [
         "2018235700040",
         "Reposicin De Redes De Alcantarillado En La Transversal 11 Entre Calles 17a Y Calle 18b Entre Barrio El Carmen Y Av. Jose Ines Torres Del Municipio De Pueblo Nuevo Departamento De   Cordoba",
         "Disminuir los niveles de disposicin de aguas negras sin tratar  en el del barrio el  Carmen  de  la zona urbana del municipio de Pueblo Nuevo.",
         "En Ejecución",
         "2018-2018",
         "Vivienda, Ciudad Y Territorio",
         "Pueblo NuevoCórdoba",
         "4003 ACCESO DE LA POBLACIÓN A LOS SERVICIOS DE AGUA POTABLE Y SANEAMIENTO BÁSICO",
         "T",
         "Todos por un nuevo país (2014-2018)",
         "161084920.0",
         "161084920.0",
         "0.0",
         "0.0",
         "Inactivo  (PGN, Territorio)",
         "23570",
         "529"
        ],
        [
         "2018195170002",
         "Fortalecimiento De Los Procesos Y Las Escuelas De Formación Deportiva En Diferentes Disciplinas.  Paez",
         "Fortalecimiento de los procesos y las escuelas de formacin en diferentes disciplinas.",
         "Formulación",
         "2018-2018",
         "Deporte Y Recreación",
         "PáezCauca",
         "4301 FOMENTO A LA RECREACIÓN, LA ACTIVIDAD FÍSICA Y EL DEPORTE PARA DESARROLLAR ENTORNOS DE CONVIVENCIA Y PAZ",
         "T",
         "Todos por un nuevo país (2014-2018)",
         "273300000.0",
         "0.0",
         "0.0",
         "0.0",
         "Devuelto a MGA",
         "19517",
         "350"
        ],
        [
         "2020764000049",
         "Fortalecimiento Y Dotación De La Biblioteca Pública Del Municipio De  La Unión",
         "Fortalecer las actividades desarrolladas y el mobiliario de la Biblioteca Municipal en aras de ofrecer un mejor servicio a la Comunidad del Municipio.",
         "En Ejecución",
         "2021-2024",
         "Cultura",
         "La UniónValle del Cauca",
         "3301 PROMOCIÓN Y ACCESO EFECTIVO A PROCESOS CULTURALES Y ARTÍSTICOS",
         "T",
         "Pacto Por Colombia, Pacto por la Equidad (2019-2022)",
         "659787377.51",
         "659787377.51",
         "99703964.0",
         "99703964.0",
         "Inactivo  (PGN, Territorio)",
         "76400",
         "34493"
        ]
       ],
       "datasetInfos": [],
       "dbfsResultPath": null,
       "isJsonSchema": true,
       "metadata": {},
       "overflow": false,
       "plotOptions": {
        "customPlotOptions": {},
        "displayType": "table",
        "pivotAggregation": null,
        "pivotColumns": null,
        "xColumns": null,
        "yColumns": null
       },
       "removedWidgets": [],
       "schema": [
        {
         "metadata": "{}",
         "name": "Bpin",
         "type": "\"string\""
        },
        {
         "metadata": "{}",
         "name": "NombreProyecto",
         "type": "\"string\""
        },
        {
         "metadata": "{}",
         "name": "ObjetivoGeneral",
         "type": "\"string\""
        },
        {
         "metadata": "{}",
         "name": "EstadoProyecto",
         "type": "\"string\""
        },
        {
         "metadata": "{}",
         "name": "Horizonte",
         "type": "\"string\""
        },
        {
         "metadata": "{}",
         "name": "Sector",
         "type": "\"string\""
        },
        {
         "metadata": "{}",
         "name": "EntidadResponsable",
         "type": "\"string\""
        },
        {
         "metadata": "{}",
         "name": "ProgramaPresupuestal",
         "type": "\"string\""
        },
        {
         "metadata": "{}",
         "name": "TipoProyecto",
         "type": "\"string\""
        },
        {
         "metadata": "{}",
         "name": "PlanDesarrolloNacional",
         "type": "\"string\""
        },
        {
         "metadata": "{}",
         "name": "ValorTotalProyecto",
         "type": "\"string\""
        },
        {
         "metadata": "{}",
         "name": "ValorVigenteProyecto",
         "type": "\"string\""
        },
        {
         "metadata": "{}",
         "name": "ValorObligacionProyecto",
         "type": "\"string\""
        },
        {
         "metadata": "{}",
         "name": "ValorPagoProyecto",
         "type": "\"string\""
        },
        {
         "metadata": "{}",
         "name": "SubEstadoProyecto",
         "type": "\"string\""
        },
        {
         "metadata": "{}",
         "name": "CodigoEntidadResponsable",
         "type": "\"string\""
        },
        {
         "metadata": "{}",
         "name": "TotalBeneficiario",
         "type": "\"string\""
        }
       ],
       "type": "table"
      }
     }
    }
   ],
   "source": [
    "display(bpin.head(10))"
   ]
  },
  {
   "cell_type": "code",
   "execution_count": 0,
   "metadata": {
    "application/vnd.databricks.v1+cell": {
     "cellMetadata": {
      "byteLimit": 2048000,
      "rowLimit": 10000
     },
     "inputWidgets": {},
     "nuid": "da6b03e8-ceac-407f-9029-4f50fe8b6a99",
     "showTitle": false,
     "tableResultSettingsMap": {},
     "title": ""
    }
   },
   "outputs": [
    {
     "output_type": "stream",
     "name": "stdout",
     "text": [
      "root\n |-- anno_bpin: string (nullable = true)\n |-- anno_firma: integer (nullable = true)\n |-- ciudad: string (nullable = true)\n |-- código_bpin: string (nullable = true)\n |-- departamento: string (nullable = true)\n |-- documento_proveedor: string (nullable = true)\n |-- duración_del_contrato: string (nullable = true)\n |-- entidad_centralizada: string (nullable = true)\n |-- estado_contrato: string (nullable = true)\n |-- fecha_de_fin_del_contrato: string (nullable = true)\n |-- fecha_de_firma: string (nullable = true)\n |-- fecha_de_inicio_del_contrato: string (nullable = true)\n |-- modalidad_de_contratacion: string (nullable = true)\n |-- objeto_del_contrato: string (nullable = true)\n |-- orden: string (nullable = true)\n |-- origen_de_los_recursos: string (nullable = true)\n |-- proveedor_adjudicado: string (nullable = true)\n |-- rama: string (nullable = true)\n |-- sector: string (nullable = true)\n |-- tipo_de_contrato: string (nullable = true)\n |-- tipodocproveedor: string (nullable = true)\n |-- ultima_actualizacion: string (nullable = true)\n |-- urlproceso: string (nullable = true)\n |-- valor_del_contrato: long (nullable = true)\n |-- valor_pagado: string (nullable = true)\n\n"
     ]
    }
   ],
   "source": [
    "secop.printSchema()"
   ]
  },
  {
   "cell_type": "code",
   "execution_count": 0,
   "metadata": {
    "application/vnd.databricks.v1+cell": {
     "cellMetadata": {
      "byteLimit": 2048000,
      "rowLimit": 10000
     },
     "inputWidgets": {},
     "nuid": "fb978f7d-e04e-4c7a-b6fb-70f7beb25aff",
     "showTitle": false,
     "tableResultSettingsMap": {},
     "title": ""
    }
   },
   "outputs": [
    {
     "output_type": "stream",
     "name": "stdout",
     "text": [
      "root\n |-- Bpin: string (nullable = true)\n |-- NombreProyecto: string (nullable = true)\n |-- ObjetivoGeneral: string (nullable = true)\n |-- EstadoProyecto: string (nullable = true)\n |-- Horizonte: string (nullable = true)\n |-- Sector: string (nullable = true)\n |-- EntidadResponsable: string (nullable = true)\n |-- ProgramaPresupuestal: string (nullable = true)\n |-- TipoProyecto: string (nullable = true)\n |-- PlanDesarrolloNacional: string (nullable = true)\n |-- ValorTotalProyecto: string (nullable = true)\n |-- ValorVigenteProyecto: string (nullable = true)\n |-- ValorObligacionProyecto: string (nullable = true)\n |-- ValorPagoProyecto: string (nullable = true)\n |-- SubEstadoProyecto: string (nullable = true)\n |-- CodigoEntidadResponsable: string (nullable = true)\n |-- TotalBeneficiario: string (nullable = true)\n\n"
     ]
    }
   ],
   "source": [
    "bpin.printSchema()"
   ]
  },
  {
   "cell_type": "markdown",
   "metadata": {
    "application/vnd.databricks.v1+cell": {
     "cellMetadata": {
      "byteLimit": 2048000,
      "rowLimit": 10000
     },
     "inputWidgets": {},
     "nuid": "67436739-1ada-41c7-9f56-a44c5774b16d",
     "showTitle": false,
     "tableResultSettingsMap": {},
     "title": ""
    }
   },
   "source": [
    "# 2. Identifique los 10 **proveedores** que han tenido el mayor **valor de contratos** durante el año **2024**\n",
    "\n",
    "Esta sección calcula el top 10 de proveedores en 2024 según el mayor valor de un contrato individual firmado por cada proveedor (no la suma de todos sus contratos).\n",
    "\n",
    "## Qué hace el código (siguiente celda)\n",
    "1) Filtra los registros de SECOP cuyo año de `fecha_de_inicio_del_contrato` sea 2024.\n",
    "2) Agrupa por proveedor usando `documento_proveedor`.\n",
    "3) Calcula, para cada proveedor, el valor máximo de contrato con `max(valor_del_contrato)` y lo etiqueta como `maximo_valor_de_contrato`.\n",
    "4) Ordena de forma descendente por ese valor máximo y toma los 10 primeros.\n",
    "5) Visualiza el resultado.\n",
    "\n",
    "## Datos relevantes\n",
    "- **proveedor**: `secop.documento_proveedor`\n",
    "- **valor de contratos** (considerado como máximo por proveedor): `secop.valor_del_contrato`\n",
    "- **año** (del contrato): `secop.fecha_de_inicio_del_contrato` (se extrae el año con `year(...)`)\n"
   ]
  },
  {
   "cell_type": "code",
   "execution_count": 0,
   "metadata": {
    "application/vnd.databricks.v1+cell": {
     "cellMetadata": {
      "byteLimit": 2048000,
      "rowLimit": 10000
     },
     "inputWidgets": {},
     "nuid": "ea7839da-d4d9-4c26-a443-41bc836d8ab3",
     "showTitle": false,
     "tableResultSettingsMap": {},
     "title": ""
    }
   },
   "outputs": [
    {
     "output_type": "display_data",
     "data": {
      "text/html": [
       "<style scoped>\n",
       "  .table-result-container {\n",
       "    max-height: 300px;\n",
       "    overflow: auto;\n",
       "  }\n",
       "  table, th, td {\n",
       "    border: 1px solid black;\n",
       "    border-collapse: collapse;\n",
       "  }\n",
       "  th, td {\n",
       "    padding: 5px;\n",
       "  }\n",
       "  th {\n",
       "    text-align: left;\n",
       "  }\n",
       "</style><div class='table-result-container'><table class='table-result'><thead style='background-color: white'><tr><th>documento_proveedor</th><th>maximo_valor_de_contrato</th></tr></thead><tbody><tr><td>30310147</td><td>2115000000000</td></tr><tr><td>899999162</td><td>574625385908</td></tr><tr><td>No Definido</td><td>556028077752</td></tr><tr><td>890922447</td><td>540544008112</td></tr><tr><td>830144890</td><td>533333333333</td></tr><tr><td>800096329</td><td>520008781105</td></tr><tr><td>900265408</td><td>500000000000</td></tr><tr><td>800213678</td><td>481658137903</td></tr><tr><td>9017853484</td><td>469047000000</td></tr><tr><td>9017774360</td><td>446445908445</td></tr></tbody></table></div>"
      ]
     },
     "metadata": {
      "application/vnd.databricks.v1+output": {
       "addedWidgets": {},
       "aggData": [],
       "aggError": "",
       "aggOverflow": false,
       "aggSchema": [],
       "aggSeriesLimitReached": false,
       "aggType": "",
       "arguments": {},
       "columnCustomDisplayInfos": {},
       "data": [
        [
         "30310147",
         2115000000000
        ],
        [
         "899999162",
         574625385908
        ],
        [
         "No Definido",
         556028077752
        ],
        [
         "890922447",
         540544008112
        ],
        [
         "830144890",
         533333333333
        ],
        [
         "800096329",
         520008781105
        ],
        [
         "900265408",
         500000000000
        ],
        [
         "800213678",
         481658137903
        ],
        [
         "9017853484",
         469047000000
        ],
        [
         "9017774360",
         446445908445
        ]
       ],
       "datasetInfos": [],
       "dbfsResultPath": null,
       "isJsonSchema": true,
       "metadata": {},
       "overflow": false,
       "plotOptions": {
        "customPlotOptions": {},
        "displayType": "table",
        "pivotAggregation": null,
        "pivotColumns": null,
        "xColumns": null,
        "yColumns": null
       },
       "removedWidgets": [],
       "schema": [
        {
         "metadata": "{}",
         "name": "documento_proveedor",
         "type": "\"string\""
        },
        {
         "metadata": "{}",
         "name": "maximo_valor_de_contrato",
         "type": "\"long\""
        }
       ],
       "type": "table"
      }
     }
    }
   ],
   "source": [
    "top10 = (\n",
    "    secop.filter(F.year(\"fecha_de_inicio_del_contrato\") == 2024)\n",
    "        .groupBy(\"documento_proveedor\")\n",
    "        .agg(F.max(\"valor_del_contrato\").alias(\"maximo_valor_de_contrato\"))\n",
    "        .orderBy(F.desc(\"maximo_valor_de_contrato\"))\n",
    "        .limit(10)\n",
    ")\n",
    "\n",
    "display(top10)"
   ]
  },
  {
   "metadata": {},
   "cell_type": "markdown",
   "source": [
    "# 3. Identifique los 10 Proyectos de inversión con mayor valor de contratos sin pagar\n",
    "\n",
    "A continuación se muestran las celdas que calculan, para cada contrato, el valor sin pagar y listan las 10 filas con mayor valor pendiente, junto con su proveedor y el nombre del proyecto asociado.\n",
    "\n",
    "## Qué hacen las siguientes celdas\n",
    "\n",
    "1) Limpieza y tipado de pagos:\n",
    "   - Se crea la columna `valor_pagado_num` a partir de `valor_pagado`, eliminando símbolos de moneda y comas (`$`, `,`) y convirtiéndola a tipo numérico (double).\n",
    "   - Si `valor_pagado` está vacío o mal formado, el resultado será `null`.\n",
    "\n",
    "2) Unión con BPIN:\n",
    "   - Se realiza un `inner join` entre `secop` y `bpin` usando la llave foránea `secop.código_bpin == bpin.Bpin` para anexar el `NombreProyecto` al contrato.\n",
    "\n",
    "3) Cálculo del valor sin pagar:\n",
    "   - Se crea la columna `valor_sin_pagar = valor_del_contrato - valor_pagado_num`.\n",
    "\n",
    "4) Selección, orden y top 10:\n",
    "   - Se seleccionan las columnas `documento_proveedor`, `valor_sin_pagar` y `NombreProyecto`.\n",
    "   - Se ordena de manera descendente por `valor_sin_pagar`.\n",
    "   - Se limita a las 10 filas con mayor valor pendiente y se visualiza el resultado.\n",
    "\n",
    "Nota: El listado es a nivel de contrato (no agrega por proyecto); por ello se muestran los contratos con mayor saldo pendiente, incluyendo su proveedor y el nombre del proyecto.\n"
   ]
  },
  {
   "cell_type": "code",
   "execution_count": 0,
   "metadata": {
    "application/vnd.databricks.v1+cell": {
     "cellMetadata": {
      "byteLimit": 2048000,
      "rowLimit": 10000
     },
     "inputWidgets": {},
     "nuid": "533158e8-2902-4b5b-b3c3-dc187e9473f1",
     "showTitle": false,
     "tableResultSettingsMap": {},
     "title": ""
    }
   },
   "outputs": [],
   "source": [
    "secop = secop.withColumn(\n",
    "    \"valor_pagado_num\",\n",
    "    F.regexp_replace(\"valor_pagado\", \"[$,]\", \"\").cast(\"double\")\n",
    ")"
   ]
  },
  {
   "cell_type": "code",
   "execution_count": 0,
   "metadata": {
    "application/vnd.databricks.v1+cell": {
     "cellMetadata": {
      "byteLimit": 2048000,
      "rowLimit": 10000
     },
     "inputWidgets": {},
     "nuid": "a2f4e0ff-77a1-45ce-b2cf-f650db272899",
     "showTitle": false,
     "tableResultSettingsMap": {},
     "title": ""
    }
   },
   "outputs": [],
   "source": [
    "joined_inner = (\n",
    "    secop.join(bpin, secop.código_bpin == bpin.Bpin, \"inner\")\n",
    ")"
   ]
  },
  {
   "cell_type": "code",
   "execution_count": 0,
   "metadata": {
    "application/vnd.databricks.v1+cell": {
     "cellMetadata": {
      "byteLimit": 2048000,
      "rowLimit": 10000
     },
     "inputWidgets": {},
     "nuid": "c11f9b1d-c611-4640-acb4-029c23deb29a",
     "showTitle": false,
     "tableResultSettingsMap": {},
     "title": ""
    }
   },
   "outputs": [
    {
     "output_type": "display_data",
     "data": {
      "text/html": [
       "<style scoped>\n",
       "  .table-result-container {\n",
       "    max-height: 300px;\n",
       "    overflow: auto;\n",
       "  }\n",
       "  table, th, td {\n",
       "    border: 1px solid black;\n",
       "    border-collapse: collapse;\n",
       "  }\n",
       "  th, td {\n",
       "    padding: 5px;\n",
       "  }\n",
       "  th {\n",
       "    text-align: left;\n",
       "  }\n",
       "</style><div class='table-result-container'><table class='table-result'><thead style='background-color: white'><tr><th>documento_proveedor</th><th>valor_sin_pagar</th><th>NombreProyecto</th></tr></thead><tbody><tr><td>74372236</td><td>2.3856178E12</td><td>Apoyo Para La Gestión Eficiente Del Recurso Hídrico En El Sector Agropecuario Mediante La Séptima Convocatoria Del Fondo Finca En El Departamento De  Boyacá</td></tr><tr><td>900623766</td><td>1.140538892678E12</td><td>Construcción Y Operación De La Cárcel Metropolitana Para Sindicados  Medellín</td></tr><tr><td>900118630</td><td>5.39075229979E11</td><td>Fortalecimiento De Los Procesos De Aseguramiento Y Prestación Integral De Servicios De Salud Con Calidad Inclusión Y Equidad Para Mejorar La Gobernanza Del Sistema General De Seguridad Social En Salud En El Departamento  Risaralda</td></tr><tr><td>800215293</td><td>5.11875E11</td><td>Fortalecimiento De La Participación E Inclusión De La Población En Recreación Actividad Física Deporte Formativo Y Social Comunitario En El Valle Del Cauca.  Valle Del Cauca</td></tr><tr><td>900265408</td><td>5.0E11</td><td>Implementacion Del Ordenamiento Social De La Propiedad Rural A Nivel  Nacional</td></tr><tr><td>900265408</td><td>4.74031380398E11</td><td>Implementacion Del Ordenamiento Social De La Propiedad Rural A Nivel  Nacional</td></tr><tr><td>800096329</td><td>4.7E11</td><td>Mejoramiento De Las Condiciones De Infraestructura De Las Instituciones De Educación Superior Públicas  Nacional</td></tr><tr><td>900249143</td><td>4.4390691E11</td><td>Diseño  Gestión Promoción E Implementación Del Plan Maestro Para La Conservación Integral Revitalización Y Sostenibilidad De Los Proyectos De Infraestructura Turística Del Departamento Del  Atlántico</td></tr><tr><td>901907544</td><td>3.84542139555E11</td><td>Implementación De La Estrategia Alimentando Sueños Y Conocimientos Alimentación Escolar   Cartagena De Indias</td></tr><tr><td>800116398</td><td>3.79892382549E11</td><td>Servicio Financiero Y Gestión Del Riesgo Para El Sector Agropecuario Y Rural Sostenible La Agroindustrialización Y La Producción Agroalimentaria  Nacional</td></tr></tbody></table></div>"
      ]
     },
     "metadata": {
      "application/vnd.databricks.v1+output": {
       "addedWidgets": {},
       "aggData": [],
       "aggError": "",
       "aggOverflow": false,
       "aggSchema": [],
       "aggSeriesLimitReached": false,
       "aggType": "",
       "arguments": {},
       "columnCustomDisplayInfos": {},
       "data": [
        [
         "74372236",
         2.3856178E12,
         "Apoyo Para La Gestión Eficiente Del Recurso Hídrico En El Sector Agropecuario Mediante La Séptima Convocatoria Del Fondo Finca En El Departamento De  Boyacá"
        ],
        [
         "900623766",
         1.140538892678E12,
         "Construcción Y Operación De La Cárcel Metropolitana Para Sindicados  Medellín"
        ],
        [
         "900118630",
         5.39075229979E11,
         "Fortalecimiento De Los Procesos De Aseguramiento Y Prestación Integral De Servicios De Salud Con Calidad Inclusión Y Equidad Para Mejorar La Gobernanza Del Sistema General De Seguridad Social En Salud En El Departamento  Risaralda"
        ],
        [
         "800215293",
         5.11875E11,
         "Fortalecimiento De La Participación E Inclusión De La Población En Recreación Actividad Física Deporte Formativo Y Social Comunitario En El Valle Del Cauca.  Valle Del Cauca"
        ],
        [
         "900265408",
         5.0E11,
         "Implementacion Del Ordenamiento Social De La Propiedad Rural A Nivel  Nacional"
        ],
        [
         "900265408",
         4.74031380398E11,
         "Implementacion Del Ordenamiento Social De La Propiedad Rural A Nivel  Nacional"
        ],
        [
         "800096329",
         4.7E11,
         "Mejoramiento De Las Condiciones De Infraestructura De Las Instituciones De Educación Superior Públicas  Nacional"
        ],
        [
         "900249143",
         4.4390691E11,
         "Diseño  Gestión Promoción E Implementación Del Plan Maestro Para La Conservación Integral Revitalización Y Sostenibilidad De Los Proyectos De Infraestructura Turística Del Departamento Del  Atlántico"
        ],
        [
         "901907544",
         3.84542139555E11,
         "Implementación De La Estrategia Alimentando Sueños Y Conocimientos Alimentación Escolar   Cartagena De Indias"
        ],
        [
         "800116398",
         3.79892382549E11,
         "Servicio Financiero Y Gestión Del Riesgo Para El Sector Agropecuario Y Rural Sostenible La Agroindustrialización Y La Producción Agroalimentaria  Nacional"
        ]
       ],
       "datasetInfos": [],
       "dbfsResultPath": null,
       "isJsonSchema": true,
       "metadata": {},
       "overflow": false,
       "plotOptions": {
        "customPlotOptions": {},
        "displayType": "table",
        "pivotAggregation": null,
        "pivotColumns": null,
        "xColumns": null,
        "yColumns": null
       },
       "removedWidgets": [],
       "schema": [
        {
         "metadata": "{}",
         "name": "documento_proveedor",
         "type": "\"string\""
        },
        {
         "metadata": "{}",
         "name": "valor_sin_pagar",
         "type": "\"double\""
        },
        {
         "metadata": "{}",
         "name": "NombreProyecto",
         "type": "\"string\""
        }
       ],
       "type": "table"
      }
     }
    }
   ],
   "source": [
    "top10 = (\n",
    "    joined_inner\n",
    "    .withColumn(\"valor_sin_pagar\", F.col(\"valor_del_contrato\") - F.col(\"valor_pagado_num\"))\n",
    "    .select(\"documento_proveedor\", \"valor_sin_pagar\", \"NombreProyecto\")\n",
    "    .orderBy(F.desc(\"valor_sin_pagar\"))\n",
    "    .limit(10)\n",
    ")\n",
    "\n",
    "display(top10)"
   ]
  },
  {
   "cell_type": "markdown",
   "metadata": {
    "application/vnd.databricks.v1+cell": {
     "cellMetadata": {
      "byteLimit": 2048000,
      "rowLimit": 10000
     },
     "inputWidgets": {},
     "nuid": "04f06418-958f-4b16-a224-d8d0be6119dc",
     "showTitle": false,
     "tableResultSettingsMap": {},
     "title": ""
    }
   },
   "source": [
    "# 4) Identifique para cada año el top 5 de los proveedores con mayor valor de contratos. La respuesta debe incluir el nombre de los proveedores, el valor de sus contratos y su posición en el top. "
   ]
  },
  {
   "cell_type": "markdown",
   "metadata": {
    "application/vnd.databricks.v1+cell": {
     "cellMetadata": {
      "byteLimit": 2048000,
      "rowLimit": 10000
     },
     "inputWidgets": {},
     "nuid": "61e078b9-9784-4592-bb9f-2a46ffb55214",
     "showTitle": false,
     "tableResultSettingsMap": {},
     "title": ""
    }
   },
   "source": [
    "En este ejercicio lo que se hizo fue primero hacer un groupby por el año de firma junto por el proveedor, de esta manera se conseguía el valor de todos los contratos de un proveedor en un año en concreto. A partir de esto se suman los valores de los contratos. El resultado de este primer paso es un dataframe que se llama **proveedor_anno_df**."
   ]
  },
  {
   "cell_type": "code",
   "execution_count": 0,
   "metadata": {
    "application/vnd.databricks.v1+cell": {
     "cellMetadata": {
      "byteLimit": 2048000,
      "rowLimit": 10000
     },
     "inputWidgets": {},
     "nuid": "86111154-8cc4-40b9-aa11-7578ffd20938",
     "showTitle": false,
     "tableResultSettingsMap": {},
     "title": ""
    }
   },
   "outputs": [
    {
     "output_type": "display_data",
     "data": {
      "text/html": [
       "<style scoped>\n",
       "  .table-result-container {\n",
       "    max-height: 300px;\n",
       "    overflow: auto;\n",
       "  }\n",
       "  table, th, td {\n",
       "    border: 1px solid black;\n",
       "    border-collapse: collapse;\n",
       "  }\n",
       "  th, td {\n",
       "    padding: 5px;\n",
       "  }\n",
       "  th {\n",
       "    text-align: left;\n",
       "  }\n",
       "</style><div class='table-result-container'><table class='table-result'><thead style='background-color: white'><tr><th>anno_firma</th><th>proveedor_adjudicado</th><th>total_valor_contrato</th></tr></thead><tbody><tr><td>2024</td><td>Zaray Valentina Diaz Alba</td><td>8100000</td></tr><tr><td>2024</td><td>PEDRO VENANCIO MANJARREZ CABANA</td><td>115500000</td></tr><tr><td>2024</td><td>LUIS JAVIER MORALES GARCIA</td><td>38871261</td></tr><tr><td>2024</td><td>DISUR SAS</td><td>7513414282</td></tr><tr><td>2024</td><td>ELKIN ARLEY FRANCO MARULANDA</td><td>21483000</td></tr></tbody></table></div>"
      ]
     },
     "metadata": {
      "application/vnd.databricks.v1+output": {
       "addedWidgets": {},
       "aggData": [],
       "aggError": "",
       "aggOverflow": false,
       "aggSchema": [],
       "aggSeriesLimitReached": false,
       "aggType": "",
       "arguments": {},
       "columnCustomDisplayInfos": {},
       "data": [
        [
         2024,
         "Zaray Valentina Diaz Alba",
         8100000
        ],
        [
         2024,
         "PEDRO VENANCIO MANJARREZ CABANA",
         115500000
        ],
        [
         2024,
         "LUIS JAVIER MORALES GARCIA",
         38871261
        ],
        [
         2024,
         "DISUR SAS",
         7513414282
        ],
        [
         2024,
         "ELKIN ARLEY FRANCO MARULANDA",
         21483000
        ]
       ],
       "datasetInfos": [],
       "dbfsResultPath": null,
       "isJsonSchema": true,
       "metadata": {},
       "overflow": false,
       "plotOptions": {
        "customPlotOptions": {},
        "displayType": "table",
        "pivotAggregation": null,
        "pivotColumns": null,
        "xColumns": null,
        "yColumns": null
       },
       "removedWidgets": [],
       "schema": [
        {
         "metadata": "{}",
         "name": "anno_firma",
         "type": "\"long\""
        },
        {
         "metadata": "{}",
         "name": "proveedor_adjudicado",
         "type": "\"string\""
        },
        {
         "metadata": "{}",
         "name": "total_valor_contrato",
         "type": "\"long\""
        }
       ],
       "type": "table"
      }
     }
    }
   ],
   "source": [
    "from pyspark.sql import Window\n",
    "\n",
    "proveedor_anno_df = (\n",
    "    secop.groupBy(\"anno_firma\", \"proveedor_adjudicado\")\n",
    "         .agg(F.sum(\"valor_del_contrato\").alias(\"total_valor_contrato\"))\n",
    ")\n",
    "\n",
    "display(proveedor_anno_df.head(5))"
   ]
  },
  {
   "cell_type": "markdown",
   "metadata": {
    "application/vnd.databricks.v1+cell": {
     "cellMetadata": {
      "byteLimit": 2048000,
      "rowLimit": 10000
     },
     "inputWidgets": {},
     "nuid": "ed97c00f-bc80-4944-932d-562019d71321",
     "showTitle": false,
     "tableResultSettingsMap": {},
     "title": ""
    }
   },
   "source": [
    "A partir de lo anterior se realiza un partionby con una window, esto para poder segmentar los datos por el año de firma, de esta manera se puede calcular los rankings por cada año (columna ranking_anno). Después de esto, se realiza una operación de **rank** para poder rankear a los proveedores por año de acuerdo al total de los valores que tengan, después de esto se realiza un ordenamiento descendiente. Este dense_rank se hace sobre la columna que se hizo anteriormente en el partition, el nombre es: ranking_anno. Finalmente el dataframe **top5_df** será la respuesta a la pregunta del enunciado. En total hay 55 filas, porque son varios años a analizar, por ejemplo para el año 2016 los proveedores con más dinero de contratos son:\n",
    "1. KAPITAL\n",
    "2. John Alexander Ardila Evan\n",
    "3. LUZ ESTELA ROJAS QUINTERO\n",
    "4. UNION TEMPORAL GENERALI COLOMBIA SEGUROS GENERALES S.A - AIG SEGUROS COLOMBIA S.A.- ACE SEGUROS S.A- CHUBB DE COLOMBIA COMPAÑÍA DE SEGUROS S.A- CHUBB\n",
    "5. AGUILA DE ORO DE COLOMBIA LTDA\n",
    "\n",
    "fuente:\n",
    "https://spark.apache.org/docs/latest/api/python/reference/pyspark.sql/api/pyspark.sql.functions.rank.html"
   ]
  },
  {
   "cell_type": "code",
   "execution_count": 0,
   "metadata": {
    "application/vnd.databricks.v1+cell": {
     "cellMetadata": {
      "byteLimit": 2048000,
      "rowLimit": 10000
     },
     "inputWidgets": {},
     "nuid": "34a933a9-b597-45df-81b0-1321c1dfb97e",
     "showTitle": false,
     "tableResultSettingsMap": {},
     "title": ""
    }
   },
   "outputs": [
    {
     "output_type": "display_data",
     "data": {
      "text/html": [
       "<style scoped>\n",
       "  .table-result-container {\n",
       "    max-height: 300px;\n",
       "    overflow: auto;\n",
       "  }\n",
       "  table, th, td {\n",
       "    border: 1px solid black;\n",
       "    border-collapse: collapse;\n",
       "  }\n",
       "  th, td {\n",
       "    padding: 5px;\n",
       "  }\n",
       "  th {\n",
       "    text-align: left;\n",
       "  }\n",
       "</style><div class='table-result-container'><table class='table-result'><thead style='background-color: white'><tr><th>anno_firma</th><th>proveedor_adjudicado</th><th>total_valor_contrato</th><th>posicion</th></tr></thead><tbody><tr><td>2015</td><td>UNIÓN TEMPORAL IDOM-SILO</td><td>563760000</td><td>1</td></tr><tr><td>2015</td><td>CORPORACIÓN ECOVERSA</td><td>520000000</td><td>2</td></tr><tr><td>2015</td><td>UT MAPFRE - PREVISORA</td><td>145120101</td><td>3</td></tr><tr><td>2015</td><td>GRUPO SPIRA SAS</td><td>119828000</td><td>4</td></tr><tr><td>2015</td><td>AXA COLPATRIA SEGUROS S.A</td><td>98600000</td><td>5</td></tr><tr><td>2016</td><td>KAPITAL</td><td>151889229120</td><td>1</td></tr><tr><td>2016</td><td>John Alexander Ardila Evan</td><td>27000000000</td><td>2</td></tr><tr><td>2016</td><td>LUZ ESTELA ROJAS QUINTERO</td><td>18000000000</td><td>3</td></tr><tr><td>2016</td><td>UNION TEMPORAL GENERALI COLOMBIA SEGUROS GENERALES S.A - AIG SEGUROS COLOMBIA S.A.- ACE SEGUROS S.A- CHUBB DE COLOMBIA COMPAÑÍA DE SEGUROS S.A- CHUBB</td><td>17958407612</td><td>4</td></tr><tr><td>2016</td><td>AGUILA DE ORO DE COLOMBIA LTDA</td><td>14031229446</td><td>5</td></tr><tr><td>2017</td><td>FESU</td><td>438187721616</td><td>1</td></tr><tr><td>2017</td><td>COLFONDOS SA</td><td>311718748000</td><td>2</td></tr><tr><td>2017</td><td>ESTACION DE SERVICIO CARRERA 50 SAS</td><td>211108041588</td><td>3</td></tr><tr><td>2017</td><td>CAJA DE COMPENSACION FAMILIAR COMPENSAR</td><td>193694066424</td><td>4</td></tr><tr><td>2017</td><td>ENTerritorio S.A</td><td>159258068054</td><td>5</td></tr><tr><td>2018</td><td>ALAN ARCHBOLD MARTINEZ</td><td>4330119839236</td><td>1</td></tr><tr><td>2018</td><td>SOCIEDAD TEQUENDAMA S.A.</td><td>1907805561976</td><td>2</td></tr><tr><td>2018</td><td>LIMPIEZA METROPOLITANA S A ESP</td><td>1544233498292</td><td>3</td></tr><tr><td>2018</td><td>Promoambiental Distrito S.A.S. ESP</td><td>1101109931961</td><td>4</td></tr><tr><td>2018</td><td>UNION TEMPORAL MEDIPOL 16</td><td>988378423013</td><td>5</td></tr><tr><td>2019</td><td>FRANCISCO ANTONIO ALVARADO BESTENE</td><td>9645115773936</td><td>1</td></tr><tr><td>2019</td><td>MARTHA LEON SANCHEZ</td><td>2715992374000</td><td>2</td></tr><tr><td>2019</td><td>INSTITUTO COLOMBIANO DE CREDITO EDUCATIVO Y ESTUDIO TÉCNICOS EN EL EXTERIOR MARIANO OSPINA PEREZ.</td><td>1737035145293</td><td>3</td></tr><tr><td>2019</td><td>Colombia Telecomunicaciones S.A. ESP BIC</td><td>1114488772821</td><td>4</td></tr><tr><td>2019</td><td>MAPFRE SEGUROS GENERALES DE COLOMBIA S.A.</td><td>484970594047</td><td>5</td></tr><tr><td>2020</td><td>JOHN ESTIVEN MARIN RODRIGUEZ</td><td>4949784128152</td><td>1</td></tr><tr><td>2020</td><td>ALBA MILENA FAJARDO ISAZA</td><td>4949777903187</td><td>2</td></tr><tr><td>2020</td><td>ESE HOSPITAL UNIVERSITARIO JULIO MENDEZ BARRENECHE</td><td>1574884067000</td><td>3</td></tr><tr><td>2020</td><td>FINANCIERA DE DESARROLLO TERRITORIAL S.A.</td><td>1163497454841</td><td>4</td></tr><tr><td>2020</td><td>CONSORCIO EUCARÍSTICO CARRERA 68</td><td>1162759703824</td><td>5</td></tr><tr><td>2021</td><td>CUERPO DE BOMBEROS VOLUNTARIOS DE ITAGUI</td><td>4092141470866</td><td>1</td></tr><tr><td>2021</td><td>AHMSA</td><td>3482943972000</td><td>2</td></tr><tr><td>2021</td><td>ENTerritorio S.A</td><td>3157488993927</td><td>3</td></tr><tr><td>2021</td><td>FINANCIERA DE DESARROLLO TERRITORIAL S.A.</td><td>1947916672054</td><td>4</td></tr><tr><td>2021</td><td>UNION TEMPORAL DISTRIBUCION PROCESOS ELECTORALES 2021</td><td>1799707249746</td><td>5</td></tr><tr><td>2022</td><td>Corporacion de Ciencia y Tecnologia para el Desarrollo de la Industria Naval, Maritima y Fluvial</td><td>2363616887571</td><td>1</td></tr><tr><td>2022</td><td>INGREDION COLOMBIA SA</td><td>1154999740390</td><td>2</td></tr><tr><td>2022</td><td>UNIVERSIDAD DE ANTIOQUIA</td><td>1130253375440</td><td>3</td></tr><tr><td>2022</td><td>UT ETB NET COLOMBIA CONECTADA</td><td>1072552301475</td><td>4</td></tr><tr><td>2022</td><td>FINANCIERA DE DESARROLLO TERRITORIAL S.A.</td><td>905428602305</td><td>5</td></tr><tr><td>2023</td><td>FINANCIERA DE DESARROLLO TERRITORIAL S.A.</td><td>3104985006258</td><td>1</td></tr><tr><td>2023</td><td>UNIVERSIDAD DE ANTIOQUIA</td><td>1615818359492</td><td>2</td></tr><tr><td>2023</td><td>FONDO MIXTO PARA LA PROMOCION DE LA CULTURA Y LAS ARTES DE BOYACA</td><td>1236000209976</td><td>3</td></tr><tr><td>2023</td><td>AGENCIA LOGISTICA DE LAS FUERZAS MILITARES</td><td>1170044220037</td><td>4</td></tr><tr><td>2023</td><td>PROGRAMA DE LAS NACIONES UNIDAS PARA EL DESARROLLO PNUD</td><td>1150227507353</td><td>5</td></tr><tr><td>2024</td><td>MARIA SORELY GRISALES / CREACIONES BJ</td><td>2115156861243</td><td>1</td></tr><tr><td>2024</td><td>UNIVERSIDAD DE ANTIOQUIA</td><td>1856417293206</td><td>2</td></tr><tr><td>2024</td><td>INSTITUTO PARA EL DESARROLLO DE ANTIOQUIA IDEA</td><td>1703797668980</td><td>3</td></tr><tr><td>2024</td><td>FINANCIERA DE DESARROLLO TERRITORIAL S.A.</td><td>1541604758133</td><td>4</td></tr><tr><td>2024</td><td>INSTITUTO TECNOLOGICO METROPOLITANO</td><td>1152177220033</td><td>5</td></tr><tr><td>2025</td><td>Zona Franca Barranquilla</td><td>2846224257835</td><td>1</td></tr><tr><td>2025</td><td>Yesid Avila Torres</td><td>2385617800000</td><td>2</td></tr><tr><td>2025</td><td>ESU</td><td>2200716981700</td><td>3</td></tr><tr><td>2025</td><td>UNION TEMPORAL INTEGRACION LOGISTICA ELECTORAL 2026</td><td>2124806917129</td><td>4</td></tr><tr><td>2025</td><td>INSTITUTO PARA EL DESARROLLO DE ANTIOQUIA IDEA</td><td>1413834935935</td><td>5</td></tr></tbody></table></div>"
      ]
     },
     "metadata": {
      "application/vnd.databricks.v1+output": {
       "addedWidgets": {},
       "aggData": [],
       "aggError": "",
       "aggOverflow": false,
       "aggSchema": [],
       "aggSeriesLimitReached": false,
       "aggType": "",
       "arguments": {},
       "columnCustomDisplayInfos": {},
       "data": [
        [
         2015,
         "UNIÓN TEMPORAL IDOM-SILO",
         563760000,
         1
        ],
        [
         2015,
         "CORPORACIÓN ECOVERSA",
         520000000,
         2
        ],
        [
         2015,
         "UT MAPFRE - PREVISORA",
         145120101,
         3
        ],
        [
         2015,
         "GRUPO SPIRA SAS",
         119828000,
         4
        ],
        [
         2015,
         "AXA COLPATRIA SEGUROS S.A",
         98600000,
         5
        ],
        [
         2016,
         "KAPITAL",
         151889229120,
         1
        ],
        [
         2016,
         "John Alexander Ardila Evan",
         27000000000,
         2
        ],
        [
         2016,
         "LUZ ESTELA ROJAS QUINTERO",
         18000000000,
         3
        ],
        [
         2016,
         "UNION TEMPORAL GENERALI COLOMBIA SEGUROS GENERALES S.A - AIG SEGUROS COLOMBIA S.A.- ACE SEGUROS S.A- CHUBB DE COLOMBIA COMPAÑÍA DE SEGUROS S.A- CHUBB",
         17958407612,
         4
        ],
        [
         2016,
         "AGUILA DE ORO DE COLOMBIA LTDA",
         14031229446,
         5
        ],
        [
         2017,
         "FESU",
         438187721616,
         1
        ],
        [
         2017,
         "COLFONDOS SA",
         311718748000,
         2
        ],
        [
         2017,
         "ESTACION DE SERVICIO CARRERA 50 SAS",
         211108041588,
         3
        ],
        [
         2017,
         "CAJA DE COMPENSACION FAMILIAR COMPENSAR",
         193694066424,
         4
        ],
        [
         2017,
         "ENTerritorio S.A",
         159258068054,
         5
        ],
        [
         2018,
         "ALAN ARCHBOLD MARTINEZ",
         4330119839236,
         1
        ],
        [
         2018,
         "SOCIEDAD TEQUENDAMA S.A.",
         1907805561976,
         2
        ],
        [
         2018,
         "LIMPIEZA METROPOLITANA S A ESP",
         1544233498292,
         3
        ],
        [
         2018,
         "Promoambiental Distrito S.A.S. ESP",
         1101109931961,
         4
        ],
        [
         2018,
         "UNION TEMPORAL MEDIPOL 16",
         988378423013,
         5
        ],
        [
         2019,
         "FRANCISCO ANTONIO ALVARADO BESTENE",
         9645115773936,
         1
        ],
        [
         2019,
         "MARTHA LEON SANCHEZ",
         2715992374000,
         2
        ],
        [
         2019,
         "INSTITUTO COLOMBIANO DE CREDITO EDUCATIVO Y ESTUDIO TÉCNICOS EN EL EXTERIOR MARIANO OSPINA PEREZ.",
         1737035145293,
         3
        ],
        [
         2019,
         "Colombia Telecomunicaciones S.A. ESP BIC",
         1114488772821,
         4
        ],
        [
         2019,
         "MAPFRE SEGUROS GENERALES DE COLOMBIA S.A.",
         484970594047,
         5
        ],
        [
         2020,
         "JOHN ESTIVEN MARIN RODRIGUEZ",
         4949784128152,
         1
        ],
        [
         2020,
         "ALBA MILENA FAJARDO ISAZA",
         4949777903187,
         2
        ],
        [
         2020,
         "ESE HOSPITAL UNIVERSITARIO JULIO MENDEZ BARRENECHE",
         1574884067000,
         3
        ],
        [
         2020,
         "FINANCIERA DE DESARROLLO TERRITORIAL S.A.",
         1163497454841,
         4
        ],
        [
         2020,
         "CONSORCIO EUCARÍSTICO CARRERA 68",
         1162759703824,
         5
        ],
        [
         2021,
         "CUERPO DE BOMBEROS VOLUNTARIOS DE ITAGUI",
         4092141470866,
         1
        ],
        [
         2021,
         "AHMSA",
         3482943972000,
         2
        ],
        [
         2021,
         "ENTerritorio S.A",
         3157488993927,
         3
        ],
        [
         2021,
         "FINANCIERA DE DESARROLLO TERRITORIAL S.A.",
         1947916672054,
         4
        ],
        [
         2021,
         "UNION TEMPORAL DISTRIBUCION PROCESOS ELECTORALES 2021",
         1799707249746,
         5
        ],
        [
         2022,
         "Corporacion de Ciencia y Tecnologia para el Desarrollo de la Industria Naval, Maritima y Fluvial",
         2363616887571,
         1
        ],
        [
         2022,
         "INGREDION COLOMBIA SA",
         1154999740390,
         2
        ],
        [
         2022,
         "UNIVERSIDAD DE ANTIOQUIA",
         1130253375440,
         3
        ],
        [
         2022,
         "UT ETB NET COLOMBIA CONECTADA",
         1072552301475,
         4
        ],
        [
         2022,
         "FINANCIERA DE DESARROLLO TERRITORIAL S.A.",
         905428602305,
         5
        ],
        [
         2023,
         "FINANCIERA DE DESARROLLO TERRITORIAL S.A.",
         3104985006258,
         1
        ],
        [
         2023,
         "UNIVERSIDAD DE ANTIOQUIA",
         1615818359492,
         2
        ],
        [
         2023,
         "FONDO MIXTO PARA LA PROMOCION DE LA CULTURA Y LAS ARTES DE BOYACA",
         1236000209976,
         3
        ],
        [
         2023,
         "AGENCIA LOGISTICA DE LAS FUERZAS MILITARES",
         1170044220037,
         4
        ],
        [
         2023,
         "PROGRAMA DE LAS NACIONES UNIDAS PARA EL DESARROLLO PNUD",
         1150227507353,
         5
        ],
        [
         2024,
         "MARIA SORELY GRISALES / CREACIONES BJ",
         2115156861243,
         1
        ],
        [
         2024,
         "UNIVERSIDAD DE ANTIOQUIA",
         1856417293206,
         2
        ],
        [
         2024,
         "INSTITUTO PARA EL DESARROLLO DE ANTIOQUIA IDEA",
         1703797668980,
         3
        ],
        [
         2024,
         "FINANCIERA DE DESARROLLO TERRITORIAL S.A.",
         1541604758133,
         4
        ],
        [
         2024,
         "INSTITUTO TECNOLOGICO METROPOLITANO",
         1152177220033,
         5
        ],
        [
         2025,
         "Zona Franca Barranquilla",
         2846224257835,
         1
        ],
        [
         2025,
         "Yesid Avila Torres",
         2385617800000,
         2
        ],
        [
         2025,
         "ESU",
         2200716981700,
         3
        ],
        [
         2025,
         "UNION TEMPORAL INTEGRACION LOGISTICA ELECTORAL 2026",
         2124806917129,
         4
        ],
        [
         2025,
         "INSTITUTO PARA EL DESARROLLO DE ANTIOQUIA IDEA",
         1413834935935,
         5
        ]
       ],
       "datasetInfos": [],
       "dbfsResultPath": null,
       "isJsonSchema": true,
       "metadata": {},
       "overflow": false,
       "plotOptions": {
        "customPlotOptions": {},
        "displayType": "table",
        "pivotAggregation": null,
        "pivotColumns": null,
        "xColumns": null,
        "yColumns": null
       },
       "removedWidgets": [],
       "schema": [
        {
         "metadata": "{}",
         "name": "anno_firma",
         "type": "\"integer\""
        },
        {
         "metadata": "{}",
         "name": "proveedor_adjudicado",
         "type": "\"string\""
        },
        {
         "metadata": "{}",
         "name": "total_valor_contrato",
         "type": "\"long\""
        },
        {
         "metadata": "{}",
         "name": "posicion",
         "type": "\"integer\""
        }
       ],
       "type": "table"
      }
     }
    }
   ],
   "source": [
    "ranking_anno = Window.partitionBy(\"anno_firma\").orderBy(F.desc(\"total_valor_contrato\"))\n",
    "top5_df = (\n",
    "    proveedor_anno_df.withColumn(\"posicion\", F.rank().over(ranking_anno))\n",
    "          .filter(F.col(\"posicion\") <= 5)\n",
    ")\n",
    "\n",
    "display(top5_df)"
   ]
  },
  {
   "cell_type": "markdown",
   "metadata": {
    "application/vnd.databricks.v1+cell": {
     "cellMetadata": {
      "byteLimit": 2048000,
      "rowLimit": 10000
     },
     "inputWidgets": {},
     "nuid": "cbe5086a-9b27-4cec-a96e-8012e66295d4",
     "showTitle": false,
     "tableResultSettingsMap": {},
     "title": ""
    }
   },
   "source": [
    "# 5) Identifique el número de **proveedores** que firmaron contratos en el **2024** y **NO** firmaron contratos en el **2020**."
   ]
  },
  {
   "cell_type": "markdown",
   "metadata": {
    "application/vnd.databricks.v1+cell": {
     "cellMetadata": {
      "byteLimit": 2048000,
      "rowLimit": 10000
     },
     "inputWidgets": {},
     "nuid": "6a71d8c5-4634-4f97-bdd5-07eb30adcc05",
     "showTitle": false,
     "tableResultSettingsMap": {},
     "title": ""
    }
   },
   "source": [
    "## Datos relevantes\n",
    "- **Proveedor**: secop.documento_proveedor\n",
    "- **Año de Firma**: secop.anno_firma\n"
   ]
  },
  {
   "cell_type": "markdown",
   "metadata": {
    "application/vnd.databricks.v1+cell": {
     "cellMetadata": {
      "byteLimit": 2048000,
      "rowLimit": 10000
     },
     "inputWidgets": {},
     "nuid": "f9cc9ba1-195a-46f9-bb30-b0f41e79660a",
     "showTitle": false,
     "tableResultSettingsMap": {},
     "title": ""
    }
   },
   "source": [
    "En este problema se crean dos DataFrames filtrando los contratos por los años 2024 y 2020.\n",
    "Después de aplicar los filtros y seleccionar únicamente la columna documento_proveedor, se eliminan duplicados para conservar proveedores únicos.\n",
    "Luego se realiza un left_anti join, restando a los proveedores de 2024 aquellos que también aparecen en 2020.\n",
    "Finalmente, se cuenta el número de filas resultantes, que corresponde a la cantidad de proveedores que firmaron contratos en 2024 y no firmaron en 2020."
   ]
  },
  {
   "cell_type": "code",
   "execution_count": 0,
   "metadata": {
    "application/vnd.databricks.v1+cell": {
     "cellMetadata": {
      "byteLimit": 2048000,
      "rowLimit": 10000
     },
     "inputWidgets": {},
     "nuid": "599c3d33-1281-404c-bed9-7b2fccb3e19a",
     "showTitle": false,
     "tableResultSettingsMap": {},
     "title": ""
    }
   },
   "outputs": [
    {
     "output_type": "stream",
     "name": "stdout",
     "text": [
      "394208\n"
     ]
    }
   ],
   "source": [
    "filtro24 = (secop\n",
    "            .filter(secop[\"anno_firma\"]==2024)\n",
    "            .select(\"documento_proveedor\")\n",
    "            .distinct()\n",
    ")\n",
    "\n",
    "filtro20 = (secop\n",
    "            .filter(secop[\"anno_firma\"]==2020)\n",
    "            .select(\"documento_proveedor\")\n",
    "            .distinct()\n",
    ")\n",
    "\n",
    "numeroProvedores = filtro24.join(filtro20, \"documento_proveedor\", \"left_anti\").count()\n",
    "print(numeroProvedores)\n"
   ]
  },
  {
   "cell_type": "markdown",
   "metadata": {
    "application/vnd.databricks.v1+cell": {
     "cellMetadata": {
      "byteLimit": 2048000,
      "rowLimit": 10000
     },
     "inputWidgets": {},
     "nuid": "606a0731-b6b5-4cf7-b227-a888140e2fb7",
     "showTitle": false,
     "tableResultSettingsMap": {},
     "title": ""
    }
   },
   "source": [
    "# 6) Calcule el valor promedio de los contratos de “Prestación de servicios” y una aproximación de la mediana (el percentil 50). Construya esta respuesta de manera que se minimice el tiempo de cálculo, aunque se sacrifique precisión. (13%) "
   ]
  },
  {
   "cell_type": "markdown",
   "metadata": {
    "application/vnd.databricks.v1+cell": {
     "cellMetadata": {
      "byteLimit": 2048000,
      "rowLimit": 10000
     },
     "inputWidgets": {},
     "nuid": "129ae9d5-a11c-4897-a39d-fab5a9b79629",
     "showTitle": false,
     "tableResultSettingsMap": {},
     "title": ""
    }
   },
   "source": [
    "El ejercicio lo vamos a comenzar filtrando solo los contratos por prestación de servicios:"
   ]
  },
  {
   "cell_type": "code",
   "execution_count": 0,
   "metadata": {
    "application/vnd.databricks.v1+cell": {
     "cellMetadata": {
      "byteLimit": 2048000,
      "rowLimit": 10000
     },
     "inputWidgets": {},
     "nuid": "69643e2f-899b-4ce1-bab6-0e4415404b3d",
     "showTitle": false,
     "tableResultSettingsMap": {},
     "title": ""
    }
   },
   "outputs": [
    {
     "output_type": "display_data",
     "data": {
      "text/html": [
       "<style scoped>\n",
       "  .table-result-container {\n",
       "    max-height: 300px;\n",
       "    overflow: auto;\n",
       "  }\n",
       "  table, th, td {\n",
       "    border: 1px solid black;\n",
       "    border-collapse: collapse;\n",
       "  }\n",
       "  th, td {\n",
       "    padding: 5px;\n",
       "  }\n",
       "  th {\n",
       "    text-align: left;\n",
       "  }\n",
       "</style><div class='table-result-container'><table class='table-result'><thead style='background-color: white'><tr><th>anno_bpin</th><th>anno_firma</th><th>ciudad</th><th>código_bpin</th><th>departamento</th><th>documento_proveedor</th><th>duración_del_contrato</th><th>entidad_centralizada</th><th>estado_contrato</th><th>fecha_de_fin_del_contrato</th><th>fecha_de_firma</th><th>fecha_de_inicio_del_contrato</th><th>modalidad_de_contratacion</th><th>objeto_del_contrato</th><th>orden</th><th>origen_de_los_recursos</th><th>proveedor_adjudicado</th><th>rama</th><th>sector</th><th>tipo_de_contrato</th><th>tipodocproveedor</th><th>ultima_actualizacion</th><th>urlproceso</th><th>valor_del_contrato</th><th>valor_pagado</th><th>valor_pagado_num</th></tr></thead><tbody><tr><td>2024</td><td>2024</td><td>No Definido</td><td>2023004410229</td><td>Huila</td><td>1075286176</td><td>6 Mes(es)</td><td>Centralizada</td><td>En ejecución</td><td>2024-09-07</td><td>2024-02-28</td><td>2024-03-08</td><td>Contratación directa</td><td>PRESTAR SERVICIOS DE APOYO A LA SECRETARIA DE SALUD DEPARTAMENTAL EN LA EJECUCIÓN DE ACTIVIDADES DE ENTORNOS SALUDABLES; INSPECCIÓN SANITARIA Y DE CONTROL DE ENFERMEDADES TRANSMITIDAS POR VECTORES Y ZOONOSIS EN EL ÁREA URBANA Y RURAL DEL MUNICIPIO DE GUADALUPE.</td><td>Territorial</td><td>Distribuido</td><td>Juan David Restrepo Cuellar</td><td>Ejecutivo</td><td>Servicio Público</td><td>Prestación de servicios</td><td>Cédula de Ciudadanía</td><td>null</td><td>https://community.secop.gov.co/Public/Tendering/OpportunityDetail/Index?noticeUID=CO1.NTC.5743726&isFromPublicArea=True&isModal=true&asPopupView=true</td><td>18900000</td><td>$2,520,000</td><td>2520000.0</td></tr><tr><td>2024</td><td>2024</td><td>Girardot</td><td>2024253070020</td><td>Cundinamarca</td><td>1070604592</td><td>3 Mes(es)</td><td>Centralizada</td><td>Modificado</td><td>2024-12-05</td><td>2024-09-04</td><td>2024-09-06</td><td>Contratación directa</td><td>PRESTACION DE SERVICIOS PROFESIONALES DE UN (A) TRABAJADOR (A) SOCIAL PARA EL ACOMPAÑAMIENTO PSICOSOCIAL AL PROGRAMA COLOMBIA MAYOR LIDERADO POR LA SECRETARIA DE DESARROLLO ECONOMICO Y SOCIAL</td><td>Territorial</td><td>Distribuido</td><td>JINETH TATIANA GOMEZ IBAÑEZ</td><td>Ejecutivo</td><td>Servicio Público</td><td>Prestación de servicios</td><td>Cédula de Ciudadanía</td><td>2024 Nov 01 12:00:00 AM</td><td>https://community.secop.gov.co/Public/Tendering/OpportunityDetail/Index?noticeUID=CO1.NTC.6652481&isFromPublicArea=True&isModal=true&asPopupView=true</td><td>9000000</td><td>$9,000,000</td><td>9000000.0</td></tr><tr><td>No D</td><td>2024</td><td>Medellín</td><td>No Definido</td><td>Antioquia</td><td>1007461247</td><td>165 Dia(s)</td><td>Centralizada</td><td>En ejecución</td><td>2024-12-30</td><td>2024-07-12</td><td>2024-07-16</td><td>Contratación directa</td><td>Prestación de servicios como contratista independiente; sin vínculo laboral por su propia cuenta y riesgo para realizar la gestion de Apoyo administrativo para la gestión documental en ejecución del Contrato Interadministrativo No.4600100862 DE 2024; celebrado entre EL DISTRITO ESPECIAL DE CIENCIA TECNOLOGÍA E INNOVACIÓN DE MEDELLÍN;SECRETARÍA DE INNOVACION y el ITM</td><td>Nacional</td><td>Recursos Propios</td><td>Maria camila Jimenez Gomez</td><td>Corporación Autónoma</td><td>Educación Nacional</td><td>Prestación de servicios</td><td>Cédula de Ciudadanía</td><td>null</td><td>https://community.secop.gov.co/Public/Tendering/OpportunityDetail/Index?noticeUID=CO1.NTC.6396174&isFromPublicArea=True&isModal=true&asPopupView=true</td><td>11618448</td><td>$0</td><td>0.0</td></tr></tbody></table></div>"
      ]
     },
     "metadata": {
      "application/vnd.databricks.v1+output": {
       "addedWidgets": {},
       "aggData": [],
       "aggError": "",
       "aggOverflow": false,
       "aggSchema": [],
       "aggSeriesLimitReached": false,
       "aggType": "",
       "arguments": {},
       "columnCustomDisplayInfos": {},
       "data": [
        [
         "2024",
         2024,
         "No Definido",
         "2023004410229",
         "Huila",
         "1075286176",
         "6 Mes(es)",
         "Centralizada",
         "En ejecución",
         "2024-09-07",
         "2024-02-28",
         "2024-03-08",
         "Contratación directa",
         "PRESTAR SERVICIOS DE APOYO A LA SECRETARIA DE SALUD DEPARTAMENTAL EN LA EJECUCIÓN DE ACTIVIDADES DE ENTORNOS SALUDABLES; INSPECCIÓN SANITARIA Y DE CONTROL DE ENFERMEDADES TRANSMITIDAS POR VECTORES Y ZOONOSIS EN EL ÁREA URBANA Y RURAL DEL MUNICIPIO DE GUADALUPE.",
         "Territorial",
         "Distribuido",
         "Juan David Restrepo Cuellar",
         "Ejecutivo",
         "Servicio Público",
         "Prestación de servicios",
         "Cédula de Ciudadanía",
         null,
         "https://community.secop.gov.co/Public/Tendering/OpportunityDetail/Index?noticeUID=CO1.NTC.5743726&isFromPublicArea=True&isModal=true&asPopupView=true",
         18900000,
         "$2,520,000",
         2520000.0
        ],
        [
         "2024",
         2024,
         "Girardot",
         "2024253070020",
         "Cundinamarca",
         "1070604592",
         "3 Mes(es)",
         "Centralizada",
         "Modificado",
         "2024-12-05",
         "2024-09-04",
         "2024-09-06",
         "Contratación directa",
         "PRESTACION DE SERVICIOS PROFESIONALES DE UN (A) TRABAJADOR (A) SOCIAL PARA EL ACOMPAÑAMIENTO PSICOSOCIAL AL PROGRAMA COLOMBIA MAYOR LIDERADO POR LA SECRETARIA DE DESARROLLO ECONOMICO Y SOCIAL",
         "Territorial",
         "Distribuido",
         "JINETH TATIANA GOMEZ IBAÑEZ",
         "Ejecutivo",
         "Servicio Público",
         "Prestación de servicios",
         "Cédula de Ciudadanía",
         "2024 Nov 01 12:00:00 AM",
         "https://community.secop.gov.co/Public/Tendering/OpportunityDetail/Index?noticeUID=CO1.NTC.6652481&isFromPublicArea=True&isModal=true&asPopupView=true",
         9000000,
         "$9,000,000",
         9000000.0
        ],
        [
         "No D",
         2024,
         "Medellín",
         "No Definido",
         "Antioquia",
         "1007461247",
         "165 Dia(s)",
         "Centralizada",
         "En ejecución",
         "2024-12-30",
         "2024-07-12",
         "2024-07-16",
         "Contratación directa",
         "Prestación de servicios como contratista independiente; sin vínculo laboral por su propia cuenta y riesgo para realizar la gestion de Apoyo administrativo para la gestión documental en ejecución del Contrato Interadministrativo No.4600100862 DE 2024; celebrado entre EL DISTRITO ESPECIAL DE CIENCIA TECNOLOGÍA E INNOVACIÓN DE MEDELLÍN;SECRETARÍA DE INNOVACION y el ITM",
         "Nacional",
         "Recursos Propios",
         "Maria camila Jimenez Gomez",
         "Corporación Autónoma",
         "Educación Nacional",
         "Prestación de servicios",
         "Cédula de Ciudadanía",
         null,
         "https://community.secop.gov.co/Public/Tendering/OpportunityDetail/Index?noticeUID=CO1.NTC.6396174&isFromPublicArea=True&isModal=true&asPopupView=true",
         11618448,
         "$0",
         0.0
        ]
       ],
       "datasetInfos": [],
       "dbfsResultPath": null,
       "isJsonSchema": true,
       "metadata": {},
       "overflow": false,
       "plotOptions": {
        "customPlotOptions": {},
        "displayType": "table",
        "pivotAggregation": null,
        "pivotColumns": null,
        "xColumns": null,
        "yColumns": null
       },
       "removedWidgets": [],
       "schema": [
        {
         "metadata": "{}",
         "name": "anno_bpin",
         "type": "\"string\""
        },
        {
         "metadata": "{}",
         "name": "anno_firma",
         "type": "\"long\""
        },
        {
         "metadata": "{}",
         "name": "ciudad",
         "type": "\"string\""
        },
        {
         "metadata": "{}",
         "name": "código_bpin",
         "type": "\"string\""
        },
        {
         "metadata": "{}",
         "name": "departamento",
         "type": "\"string\""
        },
        {
         "metadata": "{}",
         "name": "documento_proveedor",
         "type": "\"string\""
        },
        {
         "metadata": "{}",
         "name": "duración_del_contrato",
         "type": "\"string\""
        },
        {
         "metadata": "{}",
         "name": "entidad_centralizada",
         "type": "\"string\""
        },
        {
         "metadata": "{}",
         "name": "estado_contrato",
         "type": "\"string\""
        },
        {
         "metadata": "{}",
         "name": "fecha_de_fin_del_contrato",
         "type": "\"string\""
        },
        {
         "metadata": "{}",
         "name": "fecha_de_firma",
         "type": "\"string\""
        },
        {
         "metadata": "{}",
         "name": "fecha_de_inicio_del_contrato",
         "type": "\"string\""
        },
        {
         "metadata": "{}",
         "name": "modalidad_de_contratacion",
         "type": "\"string\""
        },
        {
         "metadata": "{}",
         "name": "objeto_del_contrato",
         "type": "\"string\""
        },
        {
         "metadata": "{}",
         "name": "orden",
         "type": "\"string\""
        },
        {
         "metadata": "{}",
         "name": "origen_de_los_recursos",
         "type": "\"string\""
        },
        {
         "metadata": "{}",
         "name": "proveedor_adjudicado",
         "type": "\"string\""
        },
        {
         "metadata": "{}",
         "name": "rama",
         "type": "\"string\""
        },
        {
         "metadata": "{}",
         "name": "sector",
         "type": "\"string\""
        },
        {
         "metadata": "{}",
         "name": "tipo_de_contrato",
         "type": "\"string\""
        },
        {
         "metadata": "{}",
         "name": "tipodocproveedor",
         "type": "\"string\""
        },
        {
         "metadata": "{}",
         "name": "ultima_actualizacion",
         "type": "\"string\""
        },
        {
         "metadata": "{}",
         "name": "urlproceso",
         "type": "\"string\""
        },
        {
         "metadata": "{}",
         "name": "valor_del_contrato",
         "type": "\"long\""
        },
        {
         "metadata": "{}",
         "name": "valor_pagado",
         "type": "\"string\""
        },
        {
         "metadata": "{}",
         "name": "valor_pagado_num",
         "type": "\"double\""
        }
       ],
       "type": "table"
      }
     }
    },
    {
     "output_type": "stream",
     "name": "stdout",
     "text": [
      "df original filas: 4447723 prestacion_df: 3813168\n"
     ]
    }
   ],
   "source": [
    "prestacion_df = secop.filter(F.col(\"tipo_de_contrato\") == \"Prestación de servicios\")\n",
    "display(prestacion_df.head(3))\n",
    "print(\"df original filas:\", secop.count(), \"prestacion_df:\", prestacion_df.count())"
   ]
  },
  {
   "cell_type": "markdown",
   "metadata": {
    "application/vnd.databricks.v1+cell": {
     "cellMetadata": {
      "byteLimit": 2048000,
      "rowLimit": 10000
     },
     "inputWidgets": {},
     "nuid": "5f9a315c-214b-4280-8063-4ac5afbaba5b",
     "showTitle": false,
     "tableResultSettingsMap": {},
     "title": ""
    }
   },
   "source": [
    "Para encontrar la mediana se puede hacer de la manera clásica que sería ordenar todo el dataset, y después tomar la mediana que es la mitad de los datos. Sin embargo, de esta manera el tiempo de cálculo incrementa, ya que se tendría que ordenar 3.813.168 datos. Al revisar la documentación de pyspark hay un método que se llama approxQuantile, que permite calcular cuartiles de una manera aproximada, es decir que usando este método se conseguiría minimizar el tiempo de cálculo (pero se sacrifica precisión). Por lo tanto, a continuación se calculará la mediana:\n",
    "\n",
    "Fuente:\n",
    "https://spark.apache.org/docs/latest/api/python/reference/pyspark.sql/api/pyspark.sql.DataFrame.approxQuantile.html"
   ]
  },
  {
   "cell_type": "code",
   "execution_count": 0,
   "metadata": {
    "application/vnd.databricks.v1+cell": {
     "cellMetadata": {
      "byteLimit": 2048000,
      "rowLimit": 10000
     },
     "inputWidgets": {},
     "nuid": "edba53d6-e8ac-43db-a134-f58a58109900",
     "showTitle": false,
     "tableResultSettingsMap": {},
     "title": ""
    }
   },
   "outputs": [
    {
     "output_type": "stream",
     "name": "stdout",
     "text": [
      "Mediana aproximada con approxQuantile de contratos con prestación de servicios: 17764705.0\n"
     ]
    }
   ],
   "source": [
    "mediana_approxquantile = prestacion_df.approxQuantile(\"valor_del_contrato\", [0.5], 0.05)[0] \n",
    "print(\"Mediana aproximada con approxQuantile de contratos con prestación de servicios:\" , mediana_approxquantile) "
   ]
  },
  {
   "cell_type": "markdown",
   "metadata": {
    "application/vnd.databricks.v1+cell": {
     "cellMetadata": {
      "byteLimit": 2048000,
      "rowLimit": 10000
     },
     "inputWidgets": {},
     "nuid": "3d13f1ea-737a-4d3f-a9a5-37e0df229df8",
     "showTitle": false,
     "tableResultSettingsMap": {},
     "title": ""
    }
   },
   "source": [
    "Al comparar el tiempo con un método tradicional para encontrar la mediana (hacer primero order by, y después conseguir la mitad de los datos):"
   ]
  },
  {
   "cell_type": "code",
   "execution_count": 0,
   "metadata": {
    "application/vnd.databricks.v1+cell": {
     "cellMetadata": {
      "byteLimit": 2048000,
      "rowLimit": 10000
     },
     "inputWidgets": {},
     "nuid": "bce301df-e7b8-455b-beaa-489d007e42d3",
     "showTitle": false,
     "tableResultSettingsMap": {},
     "title": ""
    }
   },
   "outputs": [
    {
     "output_type": "stream",
     "name": "stderr",
     "text": [
      "/databricks/python/lib/python3.12/site-packages/pyspark/sql/connect/expressions.py:1061: UserWarning: WARN WindowExpression: No Partition Defined for Window operation! Moving all data to a single partition, this can cause serious performance degradation.\n  warnings.warn(\n"
     ]
    },
    {
     "output_type": "display_data",
     "data": {
      "text/html": [
       "<style scoped>\n",
       "  .table-result-container {\n",
       "    max-height: 300px;\n",
       "    overflow: auto;\n",
       "  }\n",
       "  table, th, td {\n",
       "    border: 1px solid black;\n",
       "    border-collapse: collapse;\n",
       "  }\n",
       "  th, td {\n",
       "    padding: 5px;\n",
       "  }\n",
       "  th {\n",
       "    text-align: left;\n",
       "  }\n",
       "</style><div class='table-result-container'><table class='table-result'><thead style='background-color: white'><tr><th>valor_del_contrato</th><th>pos</th></tr></thead><tbody><tr><td>18702456</td><td>1906584</td></tr><tr><td>18702456</td><td>1906585</td></tr></tbody></table></div>"
      ]
     },
     "metadata": {
      "application/vnd.databricks.v1+output": {
       "addedWidgets": {},
       "aggData": [],
       "aggError": "",
       "aggOverflow": false,
       "aggSchema": [],
       "aggSeriesLimitReached": false,
       "aggType": "",
       "arguments": {},
       "columnCustomDisplayInfos": {},
       "data": [
        [
         18702456,
         1906584
        ],
        [
         18702456,
         1906585
        ]
       ],
       "datasetInfos": [],
       "dbfsResultPath": null,
       "isJsonSchema": true,
       "metadata": {},
       "overflow": false,
       "plotOptions": {
        "customPlotOptions": {},
        "displayType": "table",
        "pivotAggregation": null,
        "pivotColumns": null,
        "xColumns": null,
        "yColumns": null
       },
       "removedWidgets": [],
       "schema": [
        {
         "metadata": "{}",
         "name": "valor_del_contrato",
         "type": "\"long\""
        },
        {
         "metadata": "{}",
         "name": "pos",
         "type": "\"integer\""
        }
       ],
       "type": "table"
      }
     }
    }
   ],
   "source": [
    "from pyspark.sql import Window\n",
    "\n",
    "num_filas = prestacion_df.count()\n",
    "\n",
    "# pos central (par/impar)\n",
    "k1 = num_filas//2 + 1\n",
    "k2 = (num_filas+1)//2\n",
    "\n",
    "prestacion_df_pos = prestacion_df.withColumn(\"pos\", F.row_number().over(Window.orderBy(\"valor_del_contrato\")))\n",
    "med_exact = prestacion_df_pos.filter((F.col(\"pos\") == k1)  | (F.col(\"pos\") == k2))\n",
    "display(med_exact.select(\"valor_del_contrato\", \"pos\"))"
   ]
  },
  {
   "cell_type": "markdown",
   "metadata": {
    "application/vnd.databricks.v1+cell": {
     "cellMetadata": {
      "byteLimit": 2048000,
      "rowLimit": 10000
     },
     "inputWidgets": {},
     "nuid": "5f8ecc7d-2a53-49ba-8223-3d30c694ff2b",
     "showTitle": false,
     "tableResultSettingsMap": {},
     "title": ""
    }
   },
   "source": [
    "Para el promedio se utilizará la función agregada avg"
   ]
  },
  {
   "cell_type": "code",
   "execution_count": 0,
   "metadata": {
    "application/vnd.databricks.v1+cell": {
     "cellMetadata": {
      "byteLimit": 2048000,
      "rowLimit": 10000
     },
     "inputWidgets": {},
     "nuid": "6f75586f-4a15-48e4-a792-50d5f39b4c05",
     "showTitle": false,
     "tableResultSettingsMap": {},
     "title": ""
    }
   },
   "outputs": [
    {
     "output_type": "display_data",
     "data": {
      "text/html": [
       "<style scoped>\n",
       "  .table-result-container {\n",
       "    max-height: 300px;\n",
       "    overflow: auto;\n",
       "  }\n",
       "  table, th, td {\n",
       "    border: 1px solid black;\n",
       "    border-collapse: collapse;\n",
       "  }\n",
       "  th, td {\n",
       "    padding: 5px;\n",
       "  }\n",
       "  th {\n",
       "    text-align: left;\n",
       "  }\n",
       "</style><div class='table-result-container'><table class='table-result'><thead style='background-color: white'><tr><th>promedio</th></tr></thead><tbody><tr><td>6.948853764571217E7</td></tr></tbody></table></div>"
      ]
     },
     "metadata": {
      "application/vnd.databricks.v1+output": {
       "addedWidgets": {},
       "aggData": [],
       "aggError": "",
       "aggOverflow": false,
       "aggSchema": [],
       "aggSeriesLimitReached": false,
       "aggType": "",
       "arguments": {},
       "columnCustomDisplayInfos": {},
       "data": [
        [
         6.948853764571217E7
        ]
       ],
       "datasetInfos": [],
       "dbfsResultPath": null,
       "isJsonSchema": true,
       "metadata": {},
       "overflow": false,
       "plotOptions": {
        "customPlotOptions": {},
        "displayType": "table",
        "pivotAggregation": null,
        "pivotColumns": null,
        "xColumns": null,
        "yColumns": null
       },
       "removedWidgets": [],
       "schema": [
        {
         "metadata": "{}",
         "name": "promedio",
         "type": "\"double\""
        }
       ],
       "type": "table"
      }
     }
    }
   ],
   "source": [
    "promedio = prestacion_df.agg(F.avg(\"valor_del_contrato\").alias(\"promedio\"))\n",
    "display(promedio.select(\"promedio\"))"
   ]
  },
  {
   "cell_type": "markdown",
   "metadata": {
    "application/vnd.databricks.v1+cell": {
     "cellMetadata": {
      "byteLimit": 2048000,
      "rowLimit": 10000
     },
     "inputWidgets": {},
     "nuid": "f79808b2-3bfd-417f-a804-d89f4530a989",
     "showTitle": false,
     "tableResultSettingsMap": {},
     "title": ""
    }
   },
   "source": [
    "## Conclusiones punto 6:\n",
    "- El valor de la mediana con approxQuantile es 17764705, esta es la manera de hacerlo más rápido (sacrificamos precisión).\n",
    "- El valor real de la mediana (manera tradicional) es 18702456.\n",
    "- Al ejecutar con approxQuantile el tiempo de ejecución fue 3.8s, mientras que de la manera exacta son 7s.\n",
    "- El promedio se calculó con avg, el valor es 69.488.537."
   ]
  },
  {
   "cell_type": "markdown",
   "metadata": {
    "application/vnd.databricks.v1+cell": {
     "cellMetadata": {
      "byteLimit": 2048000,
      "rowLimit": 10000
     },
     "inputWidgets": {},
     "nuid": "c49aaa54-e417-4773-8dd4-9069ccf938a8",
     "showTitle": false,
     "tableResultSettingsMap": {},
     "title": ""
    }
   },
   "source": []
  },
  {
   "cell_type": "markdown",
   "metadata": {
    "application/vnd.databricks.v1+cell": {
     "cellMetadata": {
      "byteLimit": 2048000,
      "rowLimit": 10000
     },
     "inputWidgets": {},
     "nuid": "ad12261e-e6c6-488a-9213-061b9c878438",
     "showTitle": false,
     "tableResultSettingsMap": {},
     "title": ""
    }
   },
   "source": [
    "# 7) Cuál fue el **año** en el que firmaron contratos un **mayor** número de proveedores distintos.\n",
    "### Construya esta respuesta de manera que se minimice el tiempo de cálculo, aunque se sacrifique precisión."
   ]
  },
  {
   "cell_type": "markdown",
   "metadata": {
    "application/vnd.databricks.v1+cell": {
     "cellMetadata": {
      "byteLimit": 2048000,
      "rowLimit": 10000
     },
     "inputWidgets": {},
     "nuid": "ffaead52-a15a-41e2-9ceb-bc8a7b5be525",
     "showTitle": false,
     "tableResultSettingsMap": {},
     "title": ""
    }
   },
   "source": [
    "## Datos relevantes\n",
    "- **Proveedor**: secop.documento_proveedor\n",
    "- **Año de Firma**: secop.anno_firma\n"
   ]
  },
  {
   "cell_type": "markdown",
   "metadata": {
    "application/vnd.databricks.v1+cell": {
     "cellMetadata": {
      "byteLimit": 2048000,
      "rowLimit": 10000
     },
     "inputWidgets": {},
     "nuid": "c1695b75-bc4e-4100-8a69-ccc9abb8887b",
     "showTitle": false,
     "tableResultSettingsMap": {},
     "title": ""
    }
   },
   "source": [
    "Se seleccionan las columnas anno_firma y documento_proveedor, eliminando registros nulos.\n",
    "Luego se agrupa por año (anno_firma) y se aplica la función approx_count_distinct sobre la columna documento_proveedor para contar proveedores únicos de manera aproximada y eficiente.\n",
    "Después, se ordenan los resultados de forma descendente por el total de proveedores y se usa limit(1) para quedarse con el año que tiene el mayor número de proveedores distintos."
   ]
  },
  {
   "cell_type": "code",
   "execution_count": 0,
   "metadata": {
    "application/vnd.databricks.v1+cell": {
     "cellMetadata": {
      "byteLimit": 2048000,
      "rowLimit": 10000
     },
     "inputWidgets": {},
     "nuid": "81b0b8f6-f141-4071-8128-112d216b07a0",
     "showTitle": false,
     "tableResultSettingsMap": {},
     "title": ""
    }
   },
   "outputs": [
    {
     "output_type": "display_data",
     "data": {
      "text/html": [
       "<style scoped>\n",
       "  .table-result-container {\n",
       "    max-height: 300px;\n",
       "    overflow: auto;\n",
       "  }\n",
       "  table, th, td {\n",
       "    border: 1px solid black;\n",
       "    border-collapse: collapse;\n",
       "  }\n",
       "  th, td {\n",
       "    padding: 5px;\n",
       "  }\n",
       "  th {\n",
       "    text-align: left;\n",
       "  }\n",
       "</style><div class='table-result-container'><table class='table-result'><thead style='background-color: white'><tr><th>anno_firma</th><th>Total</th></tr></thead><tbody><tr><td>2024</td><td>556412</td></tr></tbody></table></div>"
      ]
     },
     "metadata": {
      "application/vnd.databricks.v1+output": {
       "addedWidgets": {},
       "aggData": [],
       "aggError": "",
       "aggOverflow": false,
       "aggSchema": [],
       "aggSeriesLimitReached": false,
       "aggType": "",
       "arguments": {},
       "columnCustomDisplayInfos": {},
       "data": [
        [
         2024,
         556412
        ]
       ],
       "datasetInfos": [],
       "dbfsResultPath": null,
       "isJsonSchema": true,
       "metadata": {},
       "overflow": false,
       "plotOptions": {
        "customPlotOptions": {},
        "displayType": "table",
        "pivotAggregation": null,
        "pivotColumns": null,
        "xColumns": null,
        "yColumns": null
       },
       "removedWidgets": [],
       "schema": [
        {
         "metadata": "{}",
         "name": "anno_firma",
         "type": "\"integer\""
        },
        {
         "metadata": "{}",
         "name": "Total",
         "type": "\"long\""
        }
       ],
       "type": "table"
      }
     }
    }
   ],
   "source": [
    "mayorAnio = (secop\n",
    "       .select(\"anno_firma\", \"documento_proveedor\")\n",
    "       .dropna()\n",
    "       .groupBy(\"anno_firma\")\n",
    "       .agg(F.approx_count_distinct(\"documento_proveedor\").alias(\"Total\"))\n",
    "       .orderBy(F.desc(\"Total\"))\n",
    "       .limit(1)\n",
    ")\n",
    "display(mayorAnio)"
   ]
  },
  {
   "cell_type": "markdown",
   "metadata": {
    "application/vnd.databricks.v1+cell": {
     "cellMetadata": {
      "byteLimit": 2048000,
      "rowLimit": 10000
     },
     "inputWidgets": {},
     "nuid": "f0528bb8-a7ad-4f5a-8a7d-77f3ee106e97",
     "showTitle": false,
     "tableResultSettingsMap": {},
     "title": ""
    }
   },
   "source": [
    "# 8) Cuáles son las **20 palabras** más comunes en los objetos contractuales del **20%** de los contratos más altos del **2020**. Para esta respuesta omita stopwords puntuaciones y no diferencie entre mayúsculas y minúsculas."
   ]
  },
  {
   "cell_type": "markdown",
   "metadata": {
    "application/vnd.databricks.v1+cell": {
     "cellMetadata": {
      "byteLimit": 2048000,
      "rowLimit": 10000
     },
     "inputWidgets": {},
     "nuid": "260ebbf1-e1b7-4c99-a6db-2ce6758094c4",
     "showTitle": false,
     "tableResultSettingsMap": {},
     "title": ""
    }
   },
   "source": [
    "## Datos relevantes\n",
    "- **Valor de contratos**: secop.valor_del_contrato\n",
    "- **Año de Firma**: secop.anno_firma\n",
    "- **Objeto del Contrato**: secop.objeto_del_contrato"
   ]
  },
  {
   "cell_type": "markdown",
   "metadata": {
    "application/vnd.databricks.v1+cell": {
     "cellMetadata": {
      "byteLimit": 2048000,
      "rowLimit": 10000
     },
     "inputWidgets": {},
     "nuid": "4da0fe30-9a3c-46c3-ac73-33c80feafb4c",
     "showTitle": false,
     "tableResultSettingsMap": {},
     "title": ""
    }
   },
   "source": [
    "Se filtran los contratos del año 2020 y se ordenan de manera descendente por el valor del contrato.\n",
    "A partir de este conjunto, se selecciona el 20% superior de contratos según su valor.\n",
    "Sobre la columna objeto_del_contrato, se normaliza el texto a minúsculas, se eliminan signos de puntuación y se tokeniza en palabras.\n",
    "Se eliminan las stopwords y las cadenas vacías, y luego se cuentan las ocurrencias de cada palabra.\n",
    "Finalmente, se ordenan los resultados en forma descendente y se seleccionan las 20 palabras más frecuentes."
   ]
  },
  {
   "cell_type": "code",
   "execution_count": 0,
   "metadata": {
    "application/vnd.databricks.v1+cell": {
     "cellMetadata": {
      "byteLimit": 2048000,
      "rowLimit": 10000
     },
     "inputWidgets": {},
     "nuid": "686a2486-456a-4a52-8594-a6a6d0cc333b",
     "showTitle": false,
     "tableResultSettingsMap": {},
     "title": ""
    }
   },
   "outputs": [],
   "source": [
    "stopwords = [\"a\", \"actualmente\", \"adelante\", \"además\", \"afirmó\", \"agregó\", \"ahora\", \"ahí\", \"al\", \"algo\", \"alguna\", \"algunas\", \"alguno\", \"algunos\", \"algún\", \"alrededor\", \"ambos\", \"ampleamos\", \"ante\", \"anterior\", \"antes\", \"apenas\", \"aproximadamente\", \"aquel\", \"aquellas\", \"aquellos\", \"aqui\", \"aquí\", \"arriba\", \"aseguró\", \"así\", \"atras\", \"aunque\", \"ayer\", \"añadió\", \"aún\", \"bajo\", \"bastante\", \"bien\", \"buen\", \"buena\", \"buenas\", \"bueno\", \"buenos\", \"cada\", \"casi\", \"cerca\", \"cierta\", \"ciertas\", \"cierto\", \"ciertos\", \"cinco\", \"comentó\", \"como\", \"con\", \"conocer\", \"conseguimos\", \"conseguir\", \"considera\", \"consideró\", \"consigo\", \"consigue\", \"consiguen\", \"consigues\", \"contra\", \"cosas\", \"creo\", \"cual\", \"cuales\", \"cualquier\", \"cuando\", \"cuanto\", \"cuatro\", \"cuenta\", \"cómo\", \"da\", \"dado\", \"dan\", \"dar\", \"de\", \"debe\", \"deben\", \"debido\", \"decir\", \"dejó\", \"del\", \"demás\", \"dentro\", \"desde\", \"después\", \"dice\", \"dicen\", \"dicho\", \"dieron\", \"diferente\", \"diferentes\", \"dijeron\", \"dijo\", \"dio\", \"donde\", \"dos\", \"durante\", \"e\", \"ejemplo\", \"el\", \"ella\", \"ellas\", \"ello\", \"ellos\", \"embargo\", \"empleais\", \"emplean\", \"emplear\", \"empleas\", \"empleo\", \"en\", \"encima\", \"encuentra\", \"entonces\", \"entre\", \"era\", \"erais\", \"eramos\", \"eran\", \"eras\", \"eres\", \"es\", \"esa\", \"esas\", \"ese\", \"eso\", \"esos\", \"esta\", \"estaba\", \"estabais\", \"estaban\", \"estabas\", \"estad\", \"estada\", \"estadas\", \"estado\", \"estados\", \"estais\", \"estamos\", \"estan\", \"estando\", \"estar\", \"estaremos\", \"estará\", \"estarán\", \"estarás\", \"estaré\", \"estaréis\", \"estaría\", \"estaríais\", \"estaríamos\", \"estarían\", \"estarías\", \"estas\", \"este\", \"estemos\", \"esto\", \"estos\", \"estoy\", \"estuve\", \"estuviera\", \"estuvierais\", \"estuvieran\", \"estuvieras\", \"estuvieron\", \"estuviese\", \"estuvieseis\", \"estuviesen\", \"estuvieses\", \"estuvimos\", \"estuviste\", \"estuvisteis\", \"estuviéramos\", \"estuviésemos\", \"estuvo\", \"está\", \"estábamos\", \"estáis\", \"están\", \"estás\", \"esté\", \"estéis\", \"estén\", \"estés\", \"ex\", \"existe\", \"existen\", \"explicó\", \"expresó\", \"fin\", \"fue\", \"fuera\", \"fuerais\", \"fueran\", \"fueras\", \"fueron\", \"fuese\", \"fueseis\", \"fuesen\", \"fueses\", \"fui\", \"fuimos\", \"fuiste\", \"fuisteis\", \"fuéramos\", \"fuésemos\", \"gran\", \"grandes\", \"gueno\", \"ha\", \"haber\", \"habida\", \"habidas\", \"habido\", \"habidos\", \"habiendo\", \"habremos\", \"habrá\", \"habrán\", \"habrás\", \"habré\", \"habréis\", \"habría\", \"habríais\", \"habríamos\", \"habrían\", \"habrías\", \"habéis\", \"había\", \"habíais\", \"habíamos\", \"habían\", \"habías\", \"hace\", \"haceis\", \"hacemos\", \"hacen\", \"hacer\", \"hacerlo\", \"haces\", \"hacia\", \"haciendo\", \"hago\", \"han\", \"has\", \"hasta\", \"hay\", \"haya\", \"hayamos\", \"hayan\", \"hayas\", \"hayáis\", \"he\", \"hecho\", \"hemos\", \"hicieron\", \"hizo\", \"hoy\", \"hube\", \"hubiera\", \"hubierais\", \"hubieran\", \"hubieras\", \"hubieron\", \"hubiese\", \"hubieseis\", \"hubiesen\", \"hubieses\", \"hubimos\", \"hubiste\", \"hubisteis\", \"hubiéramos\", \"hubiésemos\", \"hubo\", \"igual\", \"incluso\", \"indicó\", \"informó\", \"intenta\", \"intentais\", \"intentamos\", \"intentan\", \"intentar\", \"intentas\", \"intento\", \"ir\", \"junto\", \"la\", \"lado\", \"largo\", \"las\", \"le\", \"les\", \"llegó\", \"lleva\", \"llevar\", \"lo\", \"los\", \"luego\", \"lugar\", \"manera\", \"manifestó\", \"mayor\", \"me\", \"mediante\", \"mejor\", \"mencionó\", \"menos\", \"mi\", \"mientras\", \"mio\", \"mis\", \"misma\", \"mismas\", \"mismo\", \"mismos\", \"modo\", \"momento\", \"mucha\", \"muchas\", \"mucho\", \"muchos\", \"muy\", \"más\", \"mí\", \"mía\", \"mías\", \"mío\", \"míos\", \"nada\", \"nadie\", \"ni\", \"ninguna\", \"ningunas\", \"ninguno\", \"ningunos\", \"ningún\", \"no\", \"nos\", \"nosotras\", \"nosotros\", \"nuestra\", \"nuestras\", \"nuestro\", \"nuestros\", \"nueva\", \"nuevas\", \"nuevo\", \"nuevos\", \"nunca\", \"o\", \"ocho\", \"os\", \"otra\", \"otras\", \"otro\", \"otros\", \"para\", \"parece\", \"parte\", \"partir\", \"pasada\", \"pasado\", \"pero\", \"pesar\", \"poca\", \"pocas\", \"poco\", \"pocos\", \"podeis\", \"podemos\", \"poder\", \"podria\", \"podriais\", \"podriamos\", \"podrian\", \"podrias\", \"podrá\", \"podrán\", \"podría\", \"podrían\", \"poner\", \"por\", \"por qué\", \"porque\", \"posible\", \"primer\", \"primera\", \"primero\", \"primeros\", \"principalmente\", \"propia\", \"propias\", \"propio\", \"propios\", \"próximo\", \"próximos\", \"pudo\", \"pueda\", \"puede\", \"pueden\", \"puedo\", \"pues\", \"que\", \"quedó\", \"queremos\", \"quien\", \"quienes\", \"quiere\", \"quién\", \"qué\", \"realizado\", \"realizar\", \"realizó\", \"respecto\", \"sabe\", \"sabeis\", \"sabemos\", \"saben\", \"saber\", \"sabes\", \"se\", \"sea\", \"seamos\", \"sean\", \"seas\", \"segunda\", \"segundo\", \"según\", \"seis\", \"ser\", \"seremos\", \"será\", \"serán\", \"serás\", \"seré\", \"seréis\", \"sería\", \"seríais\", \"seríamos\", \"serían\", \"serías\", \"seáis\", \"señaló\", \"si\", \"sido\", \"siempre\", \"siendo\", \"siete\", \"sigue\", \"siguiente\", \"sin\", \"sino\", \"sobre\", \"sois\", \"sola\", \"solamente\", \"solas\", \"solo\", \"solos\", \"somos\", \"son\", \"soy\", \"su\", \"sus\", \"suya\", \"suyas\", \"suyo\", \"suyos\", \"sí\", \"sólo\", \"tal\", \"también\", \"tampoco\", \"tan\", \"tanto\", \"te\", \"tendremos\", \"tendrá\", \"tendrán\", \"tendrás\", \"tendré\", \"tendréis\", \"tendría\", \"tendríais\", \"tendríamos\", \"tendrían\", \"tendrías\", \"tened\", \"teneis\", \"tenemos\", \"tener\", \"tenga\", \"tengamos\", \"tengan\", \"tengas\", \"tengo\", \"tengáis\", \"tenida\", \"tenidas\", \"tenido\", \"tenidos\", \"teniendo\", \"tenéis\", \"tenía\", \"teníais\", \"teníamos\", \"tenían\", \"tenías\", \"tercera\", \"ti\", \"tiempo\", \"tiene\", \"tienen\", \"tienes\", \"toda\", \"todas\", \"todavía\", \"todo\", \"todos\", \"total\", \"trabaja\", \"trabajais\", \"trabajamos\", \"trabajan\", \"trabajar\", \"trabajas\", \"trabajo\", \"tras\", \"trata\", \"través\", \"tres\", \"tu\", \"tus\", \"tuve\", \"tuviera\", \"tuvierais\", \"tuvieran\", \"tuvieras\", \"tuvieron\", \"tuviese\", \"tuvieseis\", \"tuviesen\", \"tuvieses\", \"tuvimos\", \"tuviste\", \"tuvisteis\", \"tuviéramos\", \"tuviésemos\", \"tuvo\", \"tuya\", \"tuyas\", \"tuyo\", \"tuyos\", \"tú\", \"ultimo\", \"un\", \"una\", \"unas\", \"uno\", \"unos\", \"usa\", \"usais\", \"usamos\", \"usan\", \"usar\", \"usas\", \"uso\", \"usted\", \"va\", \"vais\", \"valor\", \"vamos\", \"van\", \"varias\", \"varios\", \"vaya\", \"veces\", \"ver\", \"verdad\", \"verdadera\", \"verdadero\", \"vez\", \"vosotras\", \"vosotros\", \"voy\", \"vuestra\", \"vuestras\", \"vuestro\", \"vuestros\", \"y\", \"ya\", \"yo\", \"él\", \"éramos\", \"ésta\", \"éstas\", \"éste\", \"éstos\", \"última\", \"últimas\", \"último\", \"últimos\"]"
   ]
  },
  {
   "cell_type": "code",
   "execution_count": 0,
   "metadata": {
    "application/vnd.databricks.v1+cell": {
     "cellMetadata": {
      "byteLimit": 2048000,
      "rowLimit": 10000
     },
     "inputWidgets": {},
     "nuid": "e013a6ab-1edd-4044-8e95-592f44be95b1",
     "showTitle": false,
     "tableResultSettingsMap": {},
     "title": ""
    }
   },
   "outputs": [
    {
     "output_type": "display_data",
     "data": {
      "text/html": [
       "<style scoped>\n",
       "  .table-result-container {\n",
       "    max-height: 300px;\n",
       "    overflow: auto;\n",
       "  }\n",
       "  table, th, td {\n",
       "    border: 1px solid black;\n",
       "    border-collapse: collapse;\n",
       "  }\n",
       "  th, td {\n",
       "    padding: 5px;\n",
       "  }\n",
       "  th {\n",
       "    text-align: left;\n",
       "  }\n",
       "</style><div class='table-result-container'><table class='table-result'><thead style='background-color: white'><tr><th>palabra</th><th>numero</th></tr></thead><tbody><tr><td>servicios</td><td>62921</td></tr><tr><td>prestar</td><td>34222</td></tr><tr><td>profesionales</td><td>27278</td></tr><tr><td>gestión</td><td>25680</td></tr><tr><td>apoyo</td><td>25217</td></tr><tr><td>prestación</td><td>19315</td></tr><tr><td>actividades</td><td>14640</td></tr><tr><td>desarrollo</td><td>14109</td></tr><tr><td>salud</td><td>11190</td></tr><tr><td>apoyar</td><td>9559</td></tr><tr><td>proyecto</td><td>9419</td></tr><tr><td>procesos</td><td>9211</td></tr><tr><td>marco</td><td>9027</td></tr><tr><td>integral</td><td>8078</td></tr><tr><td>formación</td><td>7979</td></tr><tr><td>administrativa</td><td>7724</td></tr><tr><td>centro</td><td>7665</td></tr><tr><td>2020</td><td>7446</td></tr><tr><td>departamento</td><td>7053</td></tr><tr><td>atención</td><td>6961</td></tr></tbody></table></div>"
      ]
     },
     "metadata": {
      "application/vnd.databricks.v1+output": {
       "addedWidgets": {},
       "aggData": [],
       "aggError": "",
       "aggOverflow": false,
       "aggSchema": [],
       "aggSeriesLimitReached": false,
       "aggType": "",
       "arguments": {},
       "columnCustomDisplayInfos": {},
       "data": [
        [
         "servicios",
         62921
        ],
        [
         "prestar",
         34222
        ],
        [
         "profesionales",
         27278
        ],
        [
         "gestión",
         25680
        ],
        [
         "apoyo",
         25217
        ],
        [
         "prestación",
         19315
        ],
        [
         "actividades",
         14640
        ],
        [
         "desarrollo",
         14109
        ],
        [
         "salud",
         11190
        ],
        [
         "apoyar",
         9559
        ],
        [
         "proyecto",
         9419
        ],
        [
         "procesos",
         9211
        ],
        [
         "marco",
         9027
        ],
        [
         "integral",
         8078
        ],
        [
         "formación",
         7979
        ],
        [
         "administrativa",
         7724
        ],
        [
         "centro",
         7665
        ],
        [
         "2020",
         7446
        ],
        [
         "departamento",
         7053
        ],
        [
         "atención",
         6961
        ]
       ],
       "datasetInfos": [],
       "dbfsResultPath": null,
       "isJsonSchema": true,
       "metadata": {},
       "overflow": false,
       "plotOptions": {
        "customPlotOptions": {},
        "displayType": "table",
        "pivotAggregation": null,
        "pivotColumns": null,
        "xColumns": null,
        "yColumns": null
       },
       "removedWidgets": [],
       "schema": [
        {
         "metadata": "{}",
         "name": "palabra",
         "type": "\"string\""
        },
        {
         "metadata": "{}",
         "name": "numero",
         "type": "\"long\""
        }
       ],
       "type": "table"
      }
     }
    }
   ],
   "source": [
    "filtro2020 = (secop\n",
    "          .select(\"anno_firma\", \"valor_del_contrato\",\"objeto_del_contrato\")\n",
    "          .dropna()\n",
    "          .filter(secop[\"anno_firma\"]==2020)\n",
    ")\n",
    "\n",
    "cantidad = filtro2020.count()\n",
    "n = int(cantidad*0.2)\n",
    "\n",
    "top20 = (filtro2020\n",
    "             .select(\"objeto_del_contrato\")\n",
    "             .limit(n)\n",
    "             .orderBy(F.desc(\"valor_del_contrato\"))\n",
    ")\n",
    "\n",
    "tokens = (top20\n",
    "          .select(F.lower(F.col(\"objeto_del_contrato\")).alias(\"txt\"))\n",
    "          .select(F.regexp_replace(\"txt\", r\"[^\\p{L}\\p{N}\\s]+\", \" \").alias(\"txt\"))\n",
    "          .select(F.split(F.col(\"txt\"), r\"\\s+\").alias(\"words\"))\n",
    "          .select(F.explode(\"words\").alias(\"palabra\"))\n",
    "          .select(F.trim(\"palabra\").alias(\"palabra\"))\n",
    "          .filter(F.length(\"palabra\") > 0)\n",
    ")\n",
    "\n",
    "top_20_palabras = (tokens\n",
    "                   .filter(~F.col(\"palabra\").isin(stopwords))\n",
    "                   .groupBy(\"palabra\")\n",
    "                   .agg(F.count(\"*\").alias(\"numero\"))\n",
    "                   .orderBy(F.desc(\"numero\"))\n",
    "                   .limit(20)\n",
    ")\n",
    "\n",
    "display(top_20_palabras)"
   ]
  }
 ],
 "metadata": {
  "application/vnd.databricks.v1+notebook": {
   "computePreferences": null,
   "dashboards": [],
   "environmentMetadata": {
    "base_environment": "",
    "environment_version": "3"
   },
   "inputWidgetPreferences": null,
   "language": "python",
   "notebookMetadata": {
    "pythonIndentUnit": 4
   },
   "notebookName": "project-1",
   "widgets": {}
  },
  "kernelspec": {
   "display_name": "Python 3",
   "language": "python",
   "name": "python3"
  },
  "language_info": {
   "name": "python"
  }
 },
 "nbformat": 4,
 "nbformat_minor": 0
}
